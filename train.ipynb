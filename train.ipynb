{
  "nbformat": 4,
  "nbformat_minor": 0,
  "metadata": {
    "colab": {
      "name": "train.ipynb",
      "provenance": [],
      "collapsed_sections": [
        "TvajvRpYWclD",
        "JPEWiILqXvkQ"
      ],
      "mount_file_id": "1zylBXFtSiM8LW_UtqJ-XdLF-eYG45-DH",
      "authorship_tag": "ABX9TyMQjBb9IiJ+9Ni34yPIMXJ6",
      "include_colab_link": true
    },
    "kernelspec": {
      "name": "python3",
      "display_name": "Python 3"
    },
    "language_info": {
      "name": "python"
    },
    "widgets": {
      "application/vnd.jupyter.widget-state+json": {
        "b5f12c90bebe411aa43bb61f7b284961": {
          "model_module": "@jupyter-widgets/controls",
          "model_name": "HBoxModel",
          "model_module_version": "1.5.0",
          "state": {
            "_dom_classes": [],
            "_model_module": "@jupyter-widgets/controls",
            "_model_module_version": "1.5.0",
            "_model_name": "HBoxModel",
            "_view_count": null,
            "_view_module": "@jupyter-widgets/controls",
            "_view_module_version": "1.5.0",
            "_view_name": "HBoxView",
            "box_style": "",
            "children": [
              "IPY_MODEL_9dbb31976a4743eda666c3dcab62c6ab",
              "IPY_MODEL_1cec031f530149369f51e3e5b4015d98",
              "IPY_MODEL_de665586714445768768faa011774d93"
            ],
            "layout": "IPY_MODEL_8029ec1cb2dc49e285af056199cf77a3"
          }
        },
        "9dbb31976a4743eda666c3dcab62c6ab": {
          "model_module": "@jupyter-widgets/controls",
          "model_name": "HTMLModel",
          "model_module_version": "1.5.0",
          "state": {
            "_dom_classes": [],
            "_model_module": "@jupyter-widgets/controls",
            "_model_module_version": "1.5.0",
            "_model_name": "HTMLModel",
            "_view_count": null,
            "_view_module": "@jupyter-widgets/controls",
            "_view_module_version": "1.5.0",
            "_view_name": "HTMLView",
            "description": "",
            "description_tooltip": null,
            "layout": "IPY_MODEL_dd75420e3caa4b00a9bfa122b38a339e",
            "placeholder": "​",
            "style": "IPY_MODEL_13274e4acccc4193ab48f16f8ccb7751",
            "value": "Downloading: 100%"
          }
        },
        "1cec031f530149369f51e3e5b4015d98": {
          "model_module": "@jupyter-widgets/controls",
          "model_name": "FloatProgressModel",
          "model_module_version": "1.5.0",
          "state": {
            "_dom_classes": [],
            "_model_module": "@jupyter-widgets/controls",
            "_model_module_version": "1.5.0",
            "_model_name": "FloatProgressModel",
            "_view_count": null,
            "_view_module": "@jupyter-widgets/controls",
            "_view_module_version": "1.5.0",
            "_view_name": "ProgressView",
            "bar_style": "success",
            "description": "",
            "description_tooltip": null,
            "layout": "IPY_MODEL_3bbfe2630ef74990aec789664e816543",
            "max": 391,
            "min": 0,
            "orientation": "horizontal",
            "style": "IPY_MODEL_7c6ec066eea64d968f489b416f09b08e",
            "value": 391
          }
        },
        "de665586714445768768faa011774d93": {
          "model_module": "@jupyter-widgets/controls",
          "model_name": "HTMLModel",
          "model_module_version": "1.5.0",
          "state": {
            "_dom_classes": [],
            "_model_module": "@jupyter-widgets/controls",
            "_model_module_version": "1.5.0",
            "_model_name": "HTMLModel",
            "_view_count": null,
            "_view_module": "@jupyter-widgets/controls",
            "_view_module_version": "1.5.0",
            "_view_name": "HTMLView",
            "description": "",
            "description_tooltip": null,
            "layout": "IPY_MODEL_06ce0a63904f495aa123e047a517c955",
            "placeholder": "​",
            "style": "IPY_MODEL_346366d709874b5fa4ac7acd62a7b344",
            "value": " 391/391 [00:00&lt;00:00, 3.35kB/s]"
          }
        },
        "8029ec1cb2dc49e285af056199cf77a3": {
          "model_module": "@jupyter-widgets/base",
          "model_name": "LayoutModel",
          "model_module_version": "1.2.0",
          "state": {
            "_model_module": "@jupyter-widgets/base",
            "_model_module_version": "1.2.0",
            "_model_name": "LayoutModel",
            "_view_count": null,
            "_view_module": "@jupyter-widgets/base",
            "_view_module_version": "1.2.0",
            "_view_name": "LayoutView",
            "align_content": null,
            "align_items": null,
            "align_self": null,
            "border": null,
            "bottom": null,
            "display": null,
            "flex": null,
            "flex_flow": null,
            "grid_area": null,
            "grid_auto_columns": null,
            "grid_auto_flow": null,
            "grid_auto_rows": null,
            "grid_column": null,
            "grid_gap": null,
            "grid_row": null,
            "grid_template_areas": null,
            "grid_template_columns": null,
            "grid_template_rows": null,
            "height": null,
            "justify_content": null,
            "justify_items": null,
            "left": null,
            "margin": null,
            "max_height": null,
            "max_width": null,
            "min_height": null,
            "min_width": null,
            "object_fit": null,
            "object_position": null,
            "order": null,
            "overflow": null,
            "overflow_x": null,
            "overflow_y": null,
            "padding": null,
            "right": null,
            "top": null,
            "visibility": null,
            "width": null
          }
        },
        "dd75420e3caa4b00a9bfa122b38a339e": {
          "model_module": "@jupyter-widgets/base",
          "model_name": "LayoutModel",
          "model_module_version": "1.2.0",
          "state": {
            "_model_module": "@jupyter-widgets/base",
            "_model_module_version": "1.2.0",
            "_model_name": "LayoutModel",
            "_view_count": null,
            "_view_module": "@jupyter-widgets/base",
            "_view_module_version": "1.2.0",
            "_view_name": "LayoutView",
            "align_content": null,
            "align_items": null,
            "align_self": null,
            "border": null,
            "bottom": null,
            "display": null,
            "flex": null,
            "flex_flow": null,
            "grid_area": null,
            "grid_auto_columns": null,
            "grid_auto_flow": null,
            "grid_auto_rows": null,
            "grid_column": null,
            "grid_gap": null,
            "grid_row": null,
            "grid_template_areas": null,
            "grid_template_columns": null,
            "grid_template_rows": null,
            "height": null,
            "justify_content": null,
            "justify_items": null,
            "left": null,
            "margin": null,
            "max_height": null,
            "max_width": null,
            "min_height": null,
            "min_width": null,
            "object_fit": null,
            "object_position": null,
            "order": null,
            "overflow": null,
            "overflow_x": null,
            "overflow_y": null,
            "padding": null,
            "right": null,
            "top": null,
            "visibility": null,
            "width": null
          }
        },
        "13274e4acccc4193ab48f16f8ccb7751": {
          "model_module": "@jupyter-widgets/controls",
          "model_name": "DescriptionStyleModel",
          "model_module_version": "1.5.0",
          "state": {
            "_model_module": "@jupyter-widgets/controls",
            "_model_module_version": "1.5.0",
            "_model_name": "DescriptionStyleModel",
            "_view_count": null,
            "_view_module": "@jupyter-widgets/base",
            "_view_module_version": "1.2.0",
            "_view_name": "StyleView",
            "description_width": ""
          }
        },
        "3bbfe2630ef74990aec789664e816543": {
          "model_module": "@jupyter-widgets/base",
          "model_name": "LayoutModel",
          "model_module_version": "1.2.0",
          "state": {
            "_model_module": "@jupyter-widgets/base",
            "_model_module_version": "1.2.0",
            "_model_name": "LayoutModel",
            "_view_count": null,
            "_view_module": "@jupyter-widgets/base",
            "_view_module_version": "1.2.0",
            "_view_name": "LayoutView",
            "align_content": null,
            "align_items": null,
            "align_self": null,
            "border": null,
            "bottom": null,
            "display": null,
            "flex": null,
            "flex_flow": null,
            "grid_area": null,
            "grid_auto_columns": null,
            "grid_auto_flow": null,
            "grid_auto_rows": null,
            "grid_column": null,
            "grid_gap": null,
            "grid_row": null,
            "grid_template_areas": null,
            "grid_template_columns": null,
            "grid_template_rows": null,
            "height": null,
            "justify_content": null,
            "justify_items": null,
            "left": null,
            "margin": null,
            "max_height": null,
            "max_width": null,
            "min_height": null,
            "min_width": null,
            "object_fit": null,
            "object_position": null,
            "order": null,
            "overflow": null,
            "overflow_x": null,
            "overflow_y": null,
            "padding": null,
            "right": null,
            "top": null,
            "visibility": null,
            "width": null
          }
        },
        "7c6ec066eea64d968f489b416f09b08e": {
          "model_module": "@jupyter-widgets/controls",
          "model_name": "ProgressStyleModel",
          "model_module_version": "1.5.0",
          "state": {
            "_model_module": "@jupyter-widgets/controls",
            "_model_module_version": "1.5.0",
            "_model_name": "ProgressStyleModel",
            "_view_count": null,
            "_view_module": "@jupyter-widgets/base",
            "_view_module_version": "1.2.0",
            "_view_name": "StyleView",
            "bar_color": null,
            "description_width": ""
          }
        },
        "06ce0a63904f495aa123e047a517c955": {
          "model_module": "@jupyter-widgets/base",
          "model_name": "LayoutModel",
          "model_module_version": "1.2.0",
          "state": {
            "_model_module": "@jupyter-widgets/base",
            "_model_module_version": "1.2.0",
            "_model_name": "LayoutModel",
            "_view_count": null,
            "_view_module": "@jupyter-widgets/base",
            "_view_module_version": "1.2.0",
            "_view_name": "LayoutView",
            "align_content": null,
            "align_items": null,
            "align_self": null,
            "border": null,
            "bottom": null,
            "display": null,
            "flex": null,
            "flex_flow": null,
            "grid_area": null,
            "grid_auto_columns": null,
            "grid_auto_flow": null,
            "grid_auto_rows": null,
            "grid_column": null,
            "grid_gap": null,
            "grid_row": null,
            "grid_template_areas": null,
            "grid_template_columns": null,
            "grid_template_rows": null,
            "height": null,
            "justify_content": null,
            "justify_items": null,
            "left": null,
            "margin": null,
            "max_height": null,
            "max_width": null,
            "min_height": null,
            "min_width": null,
            "object_fit": null,
            "object_position": null,
            "order": null,
            "overflow": null,
            "overflow_x": null,
            "overflow_y": null,
            "padding": null,
            "right": null,
            "top": null,
            "visibility": null,
            "width": null
          }
        },
        "346366d709874b5fa4ac7acd62a7b344": {
          "model_module": "@jupyter-widgets/controls",
          "model_name": "DescriptionStyleModel",
          "model_module_version": "1.5.0",
          "state": {
            "_model_module": "@jupyter-widgets/controls",
            "_model_module_version": "1.5.0",
            "_model_name": "DescriptionStyleModel",
            "_view_count": null,
            "_view_module": "@jupyter-widgets/base",
            "_view_module_version": "1.2.0",
            "_view_name": "StyleView",
            "description_width": ""
          }
        },
        "71969b4795774d9987e68c47df172d33": {
          "model_module": "@jupyter-widgets/controls",
          "model_name": "HBoxModel",
          "model_module_version": "1.5.0",
          "state": {
            "_dom_classes": [],
            "_model_module": "@jupyter-widgets/controls",
            "_model_module_version": "1.5.0",
            "_model_name": "HBoxModel",
            "_view_count": null,
            "_view_module": "@jupyter-widgets/controls",
            "_view_module_version": "1.5.0",
            "_view_name": "HBoxView",
            "box_style": "",
            "children": [
              "IPY_MODEL_152a57fb30f04e4890ae90b5a25ad39c",
              "IPY_MODEL_b8c0d8a03f8c46bf8eb597c1e147c7fd",
              "IPY_MODEL_e88e4203057e4eb68025d40272778ac5"
            ],
            "layout": "IPY_MODEL_fa4704d96bce470486387a23cf2134cb"
          }
        },
        "152a57fb30f04e4890ae90b5a25ad39c": {
          "model_module": "@jupyter-widgets/controls",
          "model_name": "HTMLModel",
          "model_module_version": "1.5.0",
          "state": {
            "_dom_classes": [],
            "_model_module": "@jupyter-widgets/controls",
            "_model_module_version": "1.5.0",
            "_model_name": "HTMLModel",
            "_view_count": null,
            "_view_module": "@jupyter-widgets/controls",
            "_view_module_version": "1.5.0",
            "_view_name": "HTMLView",
            "description": "",
            "description_tooltip": null,
            "layout": "IPY_MODEL_ccd5fefdba064e0a97f94f4729e9414f",
            "placeholder": "​",
            "style": "IPY_MODEL_84c1bc5f8ba24000a943afc6ed67dd85",
            "value": "Downloading: 100%"
          }
        },
        "b8c0d8a03f8c46bf8eb597c1e147c7fd": {
          "model_module": "@jupyter-widgets/controls",
          "model_name": "FloatProgressModel",
          "model_module_version": "1.5.0",
          "state": {
            "_dom_classes": [],
            "_model_module": "@jupyter-widgets/controls",
            "_model_module_version": "1.5.0",
            "_model_name": "FloatProgressModel",
            "_view_count": null,
            "_view_module": "@jupyter-widgets/controls",
            "_view_module_version": "1.5.0",
            "_view_name": "ProgressView",
            "bar_style": "success",
            "description": "",
            "description_tooltip": null,
            "layout": "IPY_MODEL_dbcb6e3ce648492babb16335e2940b36",
            "max": 2909,
            "min": 0,
            "orientation": "horizontal",
            "style": "IPY_MODEL_c30162830a764199aeed97020a2c47a5",
            "value": 2909
          }
        },
        "e88e4203057e4eb68025d40272778ac5": {
          "model_module": "@jupyter-widgets/controls",
          "model_name": "HTMLModel",
          "model_module_version": "1.5.0",
          "state": {
            "_dom_classes": [],
            "_model_module": "@jupyter-widgets/controls",
            "_model_module_version": "1.5.0",
            "_model_name": "HTMLModel",
            "_view_count": null,
            "_view_module": "@jupyter-widgets/controls",
            "_view_module_version": "1.5.0",
            "_view_name": "HTMLView",
            "description": "",
            "description_tooltip": null,
            "layout": "IPY_MODEL_4a897ac4884b43ea9d7ab1281fbadbe6",
            "placeholder": "​",
            "style": "IPY_MODEL_bc7da4f4214f451c98f8530bc67ef0a7",
            "value": " 2.91k/2.91k [00:00&lt;00:00, 8.82kB/s]"
          }
        },
        "fa4704d96bce470486387a23cf2134cb": {
          "model_module": "@jupyter-widgets/base",
          "model_name": "LayoutModel",
          "model_module_version": "1.2.0",
          "state": {
            "_model_module": "@jupyter-widgets/base",
            "_model_module_version": "1.2.0",
            "_model_name": "LayoutModel",
            "_view_count": null,
            "_view_module": "@jupyter-widgets/base",
            "_view_module_version": "1.2.0",
            "_view_name": "LayoutView",
            "align_content": null,
            "align_items": null,
            "align_self": null,
            "border": null,
            "bottom": null,
            "display": null,
            "flex": null,
            "flex_flow": null,
            "grid_area": null,
            "grid_auto_columns": null,
            "grid_auto_flow": null,
            "grid_auto_rows": null,
            "grid_column": null,
            "grid_gap": null,
            "grid_row": null,
            "grid_template_areas": null,
            "grid_template_columns": null,
            "grid_template_rows": null,
            "height": null,
            "justify_content": null,
            "justify_items": null,
            "left": null,
            "margin": null,
            "max_height": null,
            "max_width": null,
            "min_height": null,
            "min_width": null,
            "object_fit": null,
            "object_position": null,
            "order": null,
            "overflow": null,
            "overflow_x": null,
            "overflow_y": null,
            "padding": null,
            "right": null,
            "top": null,
            "visibility": null,
            "width": null
          }
        },
        "ccd5fefdba064e0a97f94f4729e9414f": {
          "model_module": "@jupyter-widgets/base",
          "model_name": "LayoutModel",
          "model_module_version": "1.2.0",
          "state": {
            "_model_module": "@jupyter-widgets/base",
            "_model_module_version": "1.2.0",
            "_model_name": "LayoutModel",
            "_view_count": null,
            "_view_module": "@jupyter-widgets/base",
            "_view_module_version": "1.2.0",
            "_view_name": "LayoutView",
            "align_content": null,
            "align_items": null,
            "align_self": null,
            "border": null,
            "bottom": null,
            "display": null,
            "flex": null,
            "flex_flow": null,
            "grid_area": null,
            "grid_auto_columns": null,
            "grid_auto_flow": null,
            "grid_auto_rows": null,
            "grid_column": null,
            "grid_gap": null,
            "grid_row": null,
            "grid_template_areas": null,
            "grid_template_columns": null,
            "grid_template_rows": null,
            "height": null,
            "justify_content": null,
            "justify_items": null,
            "left": null,
            "margin": null,
            "max_height": null,
            "max_width": null,
            "min_height": null,
            "min_width": null,
            "object_fit": null,
            "object_position": null,
            "order": null,
            "overflow": null,
            "overflow_x": null,
            "overflow_y": null,
            "padding": null,
            "right": null,
            "top": null,
            "visibility": null,
            "width": null
          }
        },
        "84c1bc5f8ba24000a943afc6ed67dd85": {
          "model_module": "@jupyter-widgets/controls",
          "model_name": "DescriptionStyleModel",
          "model_module_version": "1.5.0",
          "state": {
            "_model_module": "@jupyter-widgets/controls",
            "_model_module_version": "1.5.0",
            "_model_name": "DescriptionStyleModel",
            "_view_count": null,
            "_view_module": "@jupyter-widgets/base",
            "_view_module_version": "1.2.0",
            "_view_name": "StyleView",
            "description_width": ""
          }
        },
        "dbcb6e3ce648492babb16335e2940b36": {
          "model_module": "@jupyter-widgets/base",
          "model_name": "LayoutModel",
          "model_module_version": "1.2.0",
          "state": {
            "_model_module": "@jupyter-widgets/base",
            "_model_module_version": "1.2.0",
            "_model_name": "LayoutModel",
            "_view_count": null,
            "_view_module": "@jupyter-widgets/base",
            "_view_module_version": "1.2.0",
            "_view_name": "LayoutView",
            "align_content": null,
            "align_items": null,
            "align_self": null,
            "border": null,
            "bottom": null,
            "display": null,
            "flex": null,
            "flex_flow": null,
            "grid_area": null,
            "grid_auto_columns": null,
            "grid_auto_flow": null,
            "grid_auto_rows": null,
            "grid_column": null,
            "grid_gap": null,
            "grid_row": null,
            "grid_template_areas": null,
            "grid_template_columns": null,
            "grid_template_rows": null,
            "height": null,
            "justify_content": null,
            "justify_items": null,
            "left": null,
            "margin": null,
            "max_height": null,
            "max_width": null,
            "min_height": null,
            "min_width": null,
            "object_fit": null,
            "object_position": null,
            "order": null,
            "overflow": null,
            "overflow_x": null,
            "overflow_y": null,
            "padding": null,
            "right": null,
            "top": null,
            "visibility": null,
            "width": null
          }
        },
        "c30162830a764199aeed97020a2c47a5": {
          "model_module": "@jupyter-widgets/controls",
          "model_name": "ProgressStyleModel",
          "model_module_version": "1.5.0",
          "state": {
            "_model_module": "@jupyter-widgets/controls",
            "_model_module_version": "1.5.0",
            "_model_name": "ProgressStyleModel",
            "_view_count": null,
            "_view_module": "@jupyter-widgets/base",
            "_view_module_version": "1.2.0",
            "_view_name": "StyleView",
            "bar_color": null,
            "description_width": ""
          }
        },
        "4a897ac4884b43ea9d7ab1281fbadbe6": {
          "model_module": "@jupyter-widgets/base",
          "model_name": "LayoutModel",
          "model_module_version": "1.2.0",
          "state": {
            "_model_module": "@jupyter-widgets/base",
            "_model_module_version": "1.2.0",
            "_model_name": "LayoutModel",
            "_view_count": null,
            "_view_module": "@jupyter-widgets/base",
            "_view_module_version": "1.2.0",
            "_view_name": "LayoutView",
            "align_content": null,
            "align_items": null,
            "align_self": null,
            "border": null,
            "bottom": null,
            "display": null,
            "flex": null,
            "flex_flow": null,
            "grid_area": null,
            "grid_auto_columns": null,
            "grid_auto_flow": null,
            "grid_auto_rows": null,
            "grid_column": null,
            "grid_gap": null,
            "grid_row": null,
            "grid_template_areas": null,
            "grid_template_columns": null,
            "grid_template_rows": null,
            "height": null,
            "justify_content": null,
            "justify_items": null,
            "left": null,
            "margin": null,
            "max_height": null,
            "max_width": null,
            "min_height": null,
            "min_width": null,
            "object_fit": null,
            "object_position": null,
            "order": null,
            "overflow": null,
            "overflow_x": null,
            "overflow_y": null,
            "padding": null,
            "right": null,
            "top": null,
            "visibility": null,
            "width": null
          }
        },
        "bc7da4f4214f451c98f8530bc67ef0a7": {
          "model_module": "@jupyter-widgets/controls",
          "model_name": "DescriptionStyleModel",
          "model_module_version": "1.5.0",
          "state": {
            "_model_module": "@jupyter-widgets/controls",
            "_model_module_version": "1.5.0",
            "_model_name": "DescriptionStyleModel",
            "_view_count": null,
            "_view_module": "@jupyter-widgets/base",
            "_view_module_version": "1.2.0",
            "_view_name": "StyleView",
            "description_width": ""
          }
        },
        "a888c1c7fa3246859e4a7af027646fdd": {
          "model_module": "@jupyter-widgets/controls",
          "model_name": "HBoxModel",
          "model_module_version": "1.5.0",
          "state": {
            "_dom_classes": [],
            "_model_module": "@jupyter-widgets/controls",
            "_model_module_version": "1.5.0",
            "_model_name": "HBoxModel",
            "_view_count": null,
            "_view_module": "@jupyter-widgets/controls",
            "_view_module_version": "1.5.0",
            "_view_name": "HBoxView",
            "box_style": "",
            "children": [
              "IPY_MODEL_1044077225c241a5bcbaa008bc096fd4",
              "IPY_MODEL_c15ed1cb56274058a6738cad01c0cfcb",
              "IPY_MODEL_ca8d589d08b74090ad4a3598c7088f85"
            ],
            "layout": "IPY_MODEL_ee1023853948431fac65971c79b88962"
          }
        },
        "1044077225c241a5bcbaa008bc096fd4": {
          "model_module": "@jupyter-widgets/controls",
          "model_name": "HTMLModel",
          "model_module_version": "1.5.0",
          "state": {
            "_dom_classes": [],
            "_model_module": "@jupyter-widgets/controls",
            "_model_module_version": "1.5.0",
            "_model_name": "HTMLModel",
            "_view_count": null,
            "_view_module": "@jupyter-widgets/controls",
            "_view_module_version": "1.5.0",
            "_view_name": "HTMLView",
            "description": "",
            "description_tooltip": null,
            "layout": "IPY_MODEL_ce1713072b6b44c8a0743233b4f05d13",
            "placeholder": "​",
            "style": "IPY_MODEL_2ad62f8b239d4ecba300d71cee91dda9",
            "value": "Downloading: 100%"
          }
        },
        "c15ed1cb56274058a6738cad01c0cfcb": {
          "model_module": "@jupyter-widgets/controls",
          "model_name": "FloatProgressModel",
          "model_module_version": "1.5.0",
          "state": {
            "_dom_classes": [],
            "_model_module": "@jupyter-widgets/controls",
            "_model_module_version": "1.5.0",
            "_model_name": "FloatProgressModel",
            "_view_count": null,
            "_view_module": "@jupyter-widgets/controls",
            "_view_module_version": "1.5.0",
            "_view_name": "ProgressView",
            "bar_style": "success",
            "description": "",
            "description_tooltip": null,
            "layout": "IPY_MODEL_8dbd05619c43447fa3a0982af1c48210",
            "max": 385,
            "min": 0,
            "orientation": "horizontal",
            "style": "IPY_MODEL_e5409c6e997a4fe19ba2d8621d916562",
            "value": 385
          }
        },
        "ca8d589d08b74090ad4a3598c7088f85": {
          "model_module": "@jupyter-widgets/controls",
          "model_name": "HTMLModel",
          "model_module_version": "1.5.0",
          "state": {
            "_dom_classes": [],
            "_model_module": "@jupyter-widgets/controls",
            "_model_module_version": "1.5.0",
            "_model_name": "HTMLModel",
            "_view_count": null,
            "_view_module": "@jupyter-widgets/controls",
            "_view_module_version": "1.5.0",
            "_view_name": "HTMLView",
            "description": "",
            "description_tooltip": null,
            "layout": "IPY_MODEL_16e5e9a85f49422ead37c97fe14a03c8",
            "placeholder": "​",
            "style": "IPY_MODEL_c6559e92e0b94cd4971caa1d038f1619",
            "value": " 385/385 [00:00&lt;00:00, 3.32kB/s]"
          }
        },
        "ee1023853948431fac65971c79b88962": {
          "model_module": "@jupyter-widgets/base",
          "model_name": "LayoutModel",
          "model_module_version": "1.2.0",
          "state": {
            "_model_module": "@jupyter-widgets/base",
            "_model_module_version": "1.2.0",
            "_model_name": "LayoutModel",
            "_view_count": null,
            "_view_module": "@jupyter-widgets/base",
            "_view_module_version": "1.2.0",
            "_view_name": "LayoutView",
            "align_content": null,
            "align_items": null,
            "align_self": null,
            "border": null,
            "bottom": null,
            "display": null,
            "flex": null,
            "flex_flow": null,
            "grid_area": null,
            "grid_auto_columns": null,
            "grid_auto_flow": null,
            "grid_auto_rows": null,
            "grid_column": null,
            "grid_gap": null,
            "grid_row": null,
            "grid_template_areas": null,
            "grid_template_columns": null,
            "grid_template_rows": null,
            "height": null,
            "justify_content": null,
            "justify_items": null,
            "left": null,
            "margin": null,
            "max_height": null,
            "max_width": null,
            "min_height": null,
            "min_width": null,
            "object_fit": null,
            "object_position": null,
            "order": null,
            "overflow": null,
            "overflow_x": null,
            "overflow_y": null,
            "padding": null,
            "right": null,
            "top": null,
            "visibility": null,
            "width": null
          }
        },
        "ce1713072b6b44c8a0743233b4f05d13": {
          "model_module": "@jupyter-widgets/base",
          "model_name": "LayoutModel",
          "model_module_version": "1.2.0",
          "state": {
            "_model_module": "@jupyter-widgets/base",
            "_model_module_version": "1.2.0",
            "_model_name": "LayoutModel",
            "_view_count": null,
            "_view_module": "@jupyter-widgets/base",
            "_view_module_version": "1.2.0",
            "_view_name": "LayoutView",
            "align_content": null,
            "align_items": null,
            "align_self": null,
            "border": null,
            "bottom": null,
            "display": null,
            "flex": null,
            "flex_flow": null,
            "grid_area": null,
            "grid_auto_columns": null,
            "grid_auto_flow": null,
            "grid_auto_rows": null,
            "grid_column": null,
            "grid_gap": null,
            "grid_row": null,
            "grid_template_areas": null,
            "grid_template_columns": null,
            "grid_template_rows": null,
            "height": null,
            "justify_content": null,
            "justify_items": null,
            "left": null,
            "margin": null,
            "max_height": null,
            "max_width": null,
            "min_height": null,
            "min_width": null,
            "object_fit": null,
            "object_position": null,
            "order": null,
            "overflow": null,
            "overflow_x": null,
            "overflow_y": null,
            "padding": null,
            "right": null,
            "top": null,
            "visibility": null,
            "width": null
          }
        },
        "2ad62f8b239d4ecba300d71cee91dda9": {
          "model_module": "@jupyter-widgets/controls",
          "model_name": "DescriptionStyleModel",
          "model_module_version": "1.5.0",
          "state": {
            "_model_module": "@jupyter-widgets/controls",
            "_model_module_version": "1.5.0",
            "_model_name": "DescriptionStyleModel",
            "_view_count": null,
            "_view_module": "@jupyter-widgets/base",
            "_view_module_version": "1.2.0",
            "_view_name": "StyleView",
            "description_width": ""
          }
        },
        "8dbd05619c43447fa3a0982af1c48210": {
          "model_module": "@jupyter-widgets/base",
          "model_name": "LayoutModel",
          "model_module_version": "1.2.0",
          "state": {
            "_model_module": "@jupyter-widgets/base",
            "_model_module_version": "1.2.0",
            "_model_name": "LayoutModel",
            "_view_count": null,
            "_view_module": "@jupyter-widgets/base",
            "_view_module_version": "1.2.0",
            "_view_name": "LayoutView",
            "align_content": null,
            "align_items": null,
            "align_self": null,
            "border": null,
            "bottom": null,
            "display": null,
            "flex": null,
            "flex_flow": null,
            "grid_area": null,
            "grid_auto_columns": null,
            "grid_auto_flow": null,
            "grid_auto_rows": null,
            "grid_column": null,
            "grid_gap": null,
            "grid_row": null,
            "grid_template_areas": null,
            "grid_template_columns": null,
            "grid_template_rows": null,
            "height": null,
            "justify_content": null,
            "justify_items": null,
            "left": null,
            "margin": null,
            "max_height": null,
            "max_width": null,
            "min_height": null,
            "min_width": null,
            "object_fit": null,
            "object_position": null,
            "order": null,
            "overflow": null,
            "overflow_x": null,
            "overflow_y": null,
            "padding": null,
            "right": null,
            "top": null,
            "visibility": null,
            "width": null
          }
        },
        "e5409c6e997a4fe19ba2d8621d916562": {
          "model_module": "@jupyter-widgets/controls",
          "model_name": "ProgressStyleModel",
          "model_module_version": "1.5.0",
          "state": {
            "_model_module": "@jupyter-widgets/controls",
            "_model_module_version": "1.5.0",
            "_model_name": "ProgressStyleModel",
            "_view_count": null,
            "_view_module": "@jupyter-widgets/base",
            "_view_module_version": "1.2.0",
            "_view_name": "StyleView",
            "bar_color": null,
            "description_width": ""
          }
        },
        "16e5e9a85f49422ead37c97fe14a03c8": {
          "model_module": "@jupyter-widgets/base",
          "model_name": "LayoutModel",
          "model_module_version": "1.2.0",
          "state": {
            "_model_module": "@jupyter-widgets/base",
            "_model_module_version": "1.2.0",
            "_model_name": "LayoutModel",
            "_view_count": null,
            "_view_module": "@jupyter-widgets/base",
            "_view_module_version": "1.2.0",
            "_view_name": "LayoutView",
            "align_content": null,
            "align_items": null,
            "align_self": null,
            "border": null,
            "bottom": null,
            "display": null,
            "flex": null,
            "flex_flow": null,
            "grid_area": null,
            "grid_auto_columns": null,
            "grid_auto_flow": null,
            "grid_auto_rows": null,
            "grid_column": null,
            "grid_gap": null,
            "grid_row": null,
            "grid_template_areas": null,
            "grid_template_columns": null,
            "grid_template_rows": null,
            "height": null,
            "justify_content": null,
            "justify_items": null,
            "left": null,
            "margin": null,
            "max_height": null,
            "max_width": null,
            "min_height": null,
            "min_width": null,
            "object_fit": null,
            "object_position": null,
            "order": null,
            "overflow": null,
            "overflow_x": null,
            "overflow_y": null,
            "padding": null,
            "right": null,
            "top": null,
            "visibility": null,
            "width": null
          }
        },
        "c6559e92e0b94cd4971caa1d038f1619": {
          "model_module": "@jupyter-widgets/controls",
          "model_name": "DescriptionStyleModel",
          "model_module_version": "1.5.0",
          "state": {
            "_model_module": "@jupyter-widgets/controls",
            "_model_module_version": "1.5.0",
            "_model_name": "DescriptionStyleModel",
            "_view_count": null,
            "_view_module": "@jupyter-widgets/base",
            "_view_module_version": "1.2.0",
            "_view_name": "StyleView",
            "description_width": ""
          }
        },
        "822985b05d7f481d991235050789fa7e": {
          "model_module": "@jupyter-widgets/controls",
          "model_name": "HBoxModel",
          "model_module_version": "1.5.0",
          "state": {
            "_dom_classes": [],
            "_model_module": "@jupyter-widgets/controls",
            "_model_module_version": "1.5.0",
            "_model_name": "HBoxModel",
            "_view_count": null,
            "_view_module": "@jupyter-widgets/controls",
            "_view_module_version": "1.5.0",
            "_view_name": "HBoxView",
            "box_style": "",
            "children": [
              "IPY_MODEL_0cc979e062854ee79d3740584a3ac891",
              "IPY_MODEL_ce18faf4e0d94f598d91d1f98b3cd4d8",
              "IPY_MODEL_89567a0a77414b02af3be16559be8222"
            ],
            "layout": "IPY_MODEL_98b923ca11b34351bdb641c74cf34ee9"
          }
        },
        "0cc979e062854ee79d3740584a3ac891": {
          "model_module": "@jupyter-widgets/controls",
          "model_name": "HTMLModel",
          "model_module_version": "1.5.0",
          "state": {
            "_dom_classes": [],
            "_model_module": "@jupyter-widgets/controls",
            "_model_module_version": "1.5.0",
            "_model_name": "HTMLModel",
            "_view_count": null,
            "_view_module": "@jupyter-widgets/controls",
            "_view_module_version": "1.5.0",
            "_view_name": "HTMLView",
            "description": "",
            "description_tooltip": null,
            "layout": "IPY_MODEL_847044a9cb5d45a186786c44e747c07f",
            "placeholder": "​",
            "style": "IPY_MODEL_1921aa9df41342a3b9c6c3358da2c1d7",
            "value": "Downloading: 100%"
          }
        },
        "ce18faf4e0d94f598d91d1f98b3cd4d8": {
          "model_module": "@jupyter-widgets/controls",
          "model_name": "FloatProgressModel",
          "model_module_version": "1.5.0",
          "state": {
            "_dom_classes": [],
            "_model_module": "@jupyter-widgets/controls",
            "_model_module_version": "1.5.0",
            "_model_name": "FloatProgressModel",
            "_view_count": null,
            "_view_module": "@jupyter-widgets/controls",
            "_view_module_version": "1.5.0",
            "_view_name": "ProgressView",
            "bar_style": "success",
            "description": "",
            "description_tooltip": null,
            "layout": "IPY_MODEL_8074de299cde491281eb7b7e8f34877c",
            "max": 445018749,
            "min": 0,
            "orientation": "horizontal",
            "style": "IPY_MODEL_187b92b26616441fa0d17fc1fc8ace45",
            "value": 445018749
          }
        },
        "89567a0a77414b02af3be16559be8222": {
          "model_module": "@jupyter-widgets/controls",
          "model_name": "HTMLModel",
          "model_module_version": "1.5.0",
          "state": {
            "_dom_classes": [],
            "_model_module": "@jupyter-widgets/controls",
            "_model_module_version": "1.5.0",
            "_model_name": "HTMLModel",
            "_view_count": null,
            "_view_module": "@jupyter-widgets/controls",
            "_view_module_version": "1.5.0",
            "_view_name": "HTMLView",
            "description": "",
            "description_tooltip": null,
            "layout": "IPY_MODEL_ff8a82b78db7494a9aa68a9644ae4c26",
            "placeholder": "​",
            "style": "IPY_MODEL_565b7eadda03475bbd59e896a56b499d",
            "value": " 445M/445M [00:24&lt;00:00, 21.2MB/s]"
          }
        },
        "98b923ca11b34351bdb641c74cf34ee9": {
          "model_module": "@jupyter-widgets/base",
          "model_name": "LayoutModel",
          "model_module_version": "1.2.0",
          "state": {
            "_model_module": "@jupyter-widgets/base",
            "_model_module_version": "1.2.0",
            "_model_name": "LayoutModel",
            "_view_count": null,
            "_view_module": "@jupyter-widgets/base",
            "_view_module_version": "1.2.0",
            "_view_name": "LayoutView",
            "align_content": null,
            "align_items": null,
            "align_self": null,
            "border": null,
            "bottom": null,
            "display": null,
            "flex": null,
            "flex_flow": null,
            "grid_area": null,
            "grid_auto_columns": null,
            "grid_auto_flow": null,
            "grid_auto_rows": null,
            "grid_column": null,
            "grid_gap": null,
            "grid_row": null,
            "grid_template_areas": null,
            "grid_template_columns": null,
            "grid_template_rows": null,
            "height": null,
            "justify_content": null,
            "justify_items": null,
            "left": null,
            "margin": null,
            "max_height": null,
            "max_width": null,
            "min_height": null,
            "min_width": null,
            "object_fit": null,
            "object_position": null,
            "order": null,
            "overflow": null,
            "overflow_x": null,
            "overflow_y": null,
            "padding": null,
            "right": null,
            "top": null,
            "visibility": null,
            "width": null
          }
        },
        "847044a9cb5d45a186786c44e747c07f": {
          "model_module": "@jupyter-widgets/base",
          "model_name": "LayoutModel",
          "model_module_version": "1.2.0",
          "state": {
            "_model_module": "@jupyter-widgets/base",
            "_model_module_version": "1.2.0",
            "_model_name": "LayoutModel",
            "_view_count": null,
            "_view_module": "@jupyter-widgets/base",
            "_view_module_version": "1.2.0",
            "_view_name": "LayoutView",
            "align_content": null,
            "align_items": null,
            "align_self": null,
            "border": null,
            "bottom": null,
            "display": null,
            "flex": null,
            "flex_flow": null,
            "grid_area": null,
            "grid_auto_columns": null,
            "grid_auto_flow": null,
            "grid_auto_rows": null,
            "grid_column": null,
            "grid_gap": null,
            "grid_row": null,
            "grid_template_areas": null,
            "grid_template_columns": null,
            "grid_template_rows": null,
            "height": null,
            "justify_content": null,
            "justify_items": null,
            "left": null,
            "margin": null,
            "max_height": null,
            "max_width": null,
            "min_height": null,
            "min_width": null,
            "object_fit": null,
            "object_position": null,
            "order": null,
            "overflow": null,
            "overflow_x": null,
            "overflow_y": null,
            "padding": null,
            "right": null,
            "top": null,
            "visibility": null,
            "width": null
          }
        },
        "1921aa9df41342a3b9c6c3358da2c1d7": {
          "model_module": "@jupyter-widgets/controls",
          "model_name": "DescriptionStyleModel",
          "model_module_version": "1.5.0",
          "state": {
            "_model_module": "@jupyter-widgets/controls",
            "_model_module_version": "1.5.0",
            "_model_name": "DescriptionStyleModel",
            "_view_count": null,
            "_view_module": "@jupyter-widgets/base",
            "_view_module_version": "1.2.0",
            "_view_name": "StyleView",
            "description_width": ""
          }
        },
        "8074de299cde491281eb7b7e8f34877c": {
          "model_module": "@jupyter-widgets/base",
          "model_name": "LayoutModel",
          "model_module_version": "1.2.0",
          "state": {
            "_model_module": "@jupyter-widgets/base",
            "_model_module_version": "1.2.0",
            "_model_name": "LayoutModel",
            "_view_count": null,
            "_view_module": "@jupyter-widgets/base",
            "_view_module_version": "1.2.0",
            "_view_name": "LayoutView",
            "align_content": null,
            "align_items": null,
            "align_self": null,
            "border": null,
            "bottom": null,
            "display": null,
            "flex": null,
            "flex_flow": null,
            "grid_area": null,
            "grid_auto_columns": null,
            "grid_auto_flow": null,
            "grid_auto_rows": null,
            "grid_column": null,
            "grid_gap": null,
            "grid_row": null,
            "grid_template_areas": null,
            "grid_template_columns": null,
            "grid_template_rows": null,
            "height": null,
            "justify_content": null,
            "justify_items": null,
            "left": null,
            "margin": null,
            "max_height": null,
            "max_width": null,
            "min_height": null,
            "min_width": null,
            "object_fit": null,
            "object_position": null,
            "order": null,
            "overflow": null,
            "overflow_x": null,
            "overflow_y": null,
            "padding": null,
            "right": null,
            "top": null,
            "visibility": null,
            "width": null
          }
        },
        "187b92b26616441fa0d17fc1fc8ace45": {
          "model_module": "@jupyter-widgets/controls",
          "model_name": "ProgressStyleModel",
          "model_module_version": "1.5.0",
          "state": {
            "_model_module": "@jupyter-widgets/controls",
            "_model_module_version": "1.5.0",
            "_model_name": "ProgressStyleModel",
            "_view_count": null,
            "_view_module": "@jupyter-widgets/base",
            "_view_module_version": "1.2.0",
            "_view_name": "StyleView",
            "bar_color": null,
            "description_width": ""
          }
        },
        "ff8a82b78db7494a9aa68a9644ae4c26": {
          "model_module": "@jupyter-widgets/base",
          "model_name": "LayoutModel",
          "model_module_version": "1.2.0",
          "state": {
            "_model_module": "@jupyter-widgets/base",
            "_model_module_version": "1.2.0",
            "_model_name": "LayoutModel",
            "_view_count": null,
            "_view_module": "@jupyter-widgets/base",
            "_view_module_version": "1.2.0",
            "_view_name": "LayoutView",
            "align_content": null,
            "align_items": null,
            "align_self": null,
            "border": null,
            "bottom": null,
            "display": null,
            "flex": null,
            "flex_flow": null,
            "grid_area": null,
            "grid_auto_columns": null,
            "grid_auto_flow": null,
            "grid_auto_rows": null,
            "grid_column": null,
            "grid_gap": null,
            "grid_row": null,
            "grid_template_areas": null,
            "grid_template_columns": null,
            "grid_template_rows": null,
            "height": null,
            "justify_content": null,
            "justify_items": null,
            "left": null,
            "margin": null,
            "max_height": null,
            "max_width": null,
            "min_height": null,
            "min_width": null,
            "object_fit": null,
            "object_position": null,
            "order": null,
            "overflow": null,
            "overflow_x": null,
            "overflow_y": null,
            "padding": null,
            "right": null,
            "top": null,
            "visibility": null,
            "width": null
          }
        },
        "565b7eadda03475bbd59e896a56b499d": {
          "model_module": "@jupyter-widgets/controls",
          "model_name": "DescriptionStyleModel",
          "model_module_version": "1.5.0",
          "state": {
            "_model_module": "@jupyter-widgets/controls",
            "_model_module_version": "1.5.0",
            "_model_name": "DescriptionStyleModel",
            "_view_count": null,
            "_view_module": "@jupyter-widgets/base",
            "_view_module_version": "1.2.0",
            "_view_name": "StyleView",
            "description_width": ""
          }
        },
        "a888a2e587514ef58bf64857e2742074": {
          "model_module": "@jupyter-widgets/controls",
          "model_name": "HBoxModel",
          "model_module_version": "1.5.0",
          "state": {
            "_dom_classes": [],
            "_model_module": "@jupyter-widgets/controls",
            "_model_module_version": "1.5.0",
            "_model_name": "HBoxModel",
            "_view_count": null,
            "_view_module": "@jupyter-widgets/controls",
            "_view_module_version": "1.5.0",
            "_view_name": "HBoxView",
            "box_style": "",
            "children": [
              "IPY_MODEL_9387d8182b6a4a85bc82dbbef6677f7f",
              "IPY_MODEL_eb77ea780f98405a9b8838739afe4039",
              "IPY_MODEL_49e36306f440499aae652c590d025bbc"
            ],
            "layout": "IPY_MODEL_b0cfd271edda43e088dc038a004a2d2c"
          }
        },
        "9387d8182b6a4a85bc82dbbef6677f7f": {
          "model_module": "@jupyter-widgets/controls",
          "model_name": "HTMLModel",
          "model_module_version": "1.5.0",
          "state": {
            "_dom_classes": [],
            "_model_module": "@jupyter-widgets/controls",
            "_model_module_version": "1.5.0",
            "_model_name": "HTMLModel",
            "_view_count": null,
            "_view_module": "@jupyter-widgets/controls",
            "_view_module_version": "1.5.0",
            "_view_name": "HTMLView",
            "description": "",
            "description_tooltip": null,
            "layout": "IPY_MODEL_476162263ad24982ad6a602d795d2145",
            "placeholder": "​",
            "style": "IPY_MODEL_88f8ea38471b40cc8fc50382228a7e6c",
            "value": "Downloading: 100%"
          }
        },
        "eb77ea780f98405a9b8838739afe4039": {
          "model_module": "@jupyter-widgets/controls",
          "model_name": "FloatProgressModel",
          "model_module_version": "1.5.0",
          "state": {
            "_dom_classes": [],
            "_model_module": "@jupyter-widgets/controls",
            "_model_module_version": "1.5.0",
            "_model_name": "FloatProgressModel",
            "_view_count": null,
            "_view_module": "@jupyter-widgets/controls",
            "_view_module_version": "1.5.0",
            "_view_name": "ProgressView",
            "bar_style": "success",
            "description": "",
            "description_tooltip": null,
            "layout": "IPY_MODEL_d3cba7ae2a384f7a9296395a72cdd294",
            "max": 59,
            "min": 0,
            "orientation": "horizontal",
            "style": "IPY_MODEL_234366bda897443787bb6164055cb1e1",
            "value": 59
          }
        },
        "49e36306f440499aae652c590d025bbc": {
          "model_module": "@jupyter-widgets/controls",
          "model_name": "HTMLModel",
          "model_module_version": "1.5.0",
          "state": {
            "_dom_classes": [],
            "_model_module": "@jupyter-widgets/controls",
            "_model_module_version": "1.5.0",
            "_model_name": "HTMLModel",
            "_view_count": null,
            "_view_module": "@jupyter-widgets/controls",
            "_view_module_version": "1.5.0",
            "_view_name": "HTMLView",
            "description": "",
            "description_tooltip": null,
            "layout": "IPY_MODEL_8dba4703ab3f414096ef26b63b25d63d",
            "placeholder": "​",
            "style": "IPY_MODEL_f42ac96cf4fa406b9d686ba488f423e6",
            "value": " 59.0/59.0 [00:00&lt;00:00, 698B/s]"
          }
        },
        "b0cfd271edda43e088dc038a004a2d2c": {
          "model_module": "@jupyter-widgets/base",
          "model_name": "LayoutModel",
          "model_module_version": "1.2.0",
          "state": {
            "_model_module": "@jupyter-widgets/base",
            "_model_module_version": "1.2.0",
            "_model_name": "LayoutModel",
            "_view_count": null,
            "_view_module": "@jupyter-widgets/base",
            "_view_module_version": "1.2.0",
            "_view_name": "LayoutView",
            "align_content": null,
            "align_items": null,
            "align_self": null,
            "border": null,
            "bottom": null,
            "display": null,
            "flex": null,
            "flex_flow": null,
            "grid_area": null,
            "grid_auto_columns": null,
            "grid_auto_flow": null,
            "grid_auto_rows": null,
            "grid_column": null,
            "grid_gap": null,
            "grid_row": null,
            "grid_template_areas": null,
            "grid_template_columns": null,
            "grid_template_rows": null,
            "height": null,
            "justify_content": null,
            "justify_items": null,
            "left": null,
            "margin": null,
            "max_height": null,
            "max_width": null,
            "min_height": null,
            "min_width": null,
            "object_fit": null,
            "object_position": null,
            "order": null,
            "overflow": null,
            "overflow_x": null,
            "overflow_y": null,
            "padding": null,
            "right": null,
            "top": null,
            "visibility": null,
            "width": null
          }
        },
        "476162263ad24982ad6a602d795d2145": {
          "model_module": "@jupyter-widgets/base",
          "model_name": "LayoutModel",
          "model_module_version": "1.2.0",
          "state": {
            "_model_module": "@jupyter-widgets/base",
            "_model_module_version": "1.2.0",
            "_model_name": "LayoutModel",
            "_view_count": null,
            "_view_module": "@jupyter-widgets/base",
            "_view_module_version": "1.2.0",
            "_view_name": "LayoutView",
            "align_content": null,
            "align_items": null,
            "align_self": null,
            "border": null,
            "bottom": null,
            "display": null,
            "flex": null,
            "flex_flow": null,
            "grid_area": null,
            "grid_auto_columns": null,
            "grid_auto_flow": null,
            "grid_auto_rows": null,
            "grid_column": null,
            "grid_gap": null,
            "grid_row": null,
            "grid_template_areas": null,
            "grid_template_columns": null,
            "grid_template_rows": null,
            "height": null,
            "justify_content": null,
            "justify_items": null,
            "left": null,
            "margin": null,
            "max_height": null,
            "max_width": null,
            "min_height": null,
            "min_width": null,
            "object_fit": null,
            "object_position": null,
            "order": null,
            "overflow": null,
            "overflow_x": null,
            "overflow_y": null,
            "padding": null,
            "right": null,
            "top": null,
            "visibility": null,
            "width": null
          }
        },
        "88f8ea38471b40cc8fc50382228a7e6c": {
          "model_module": "@jupyter-widgets/controls",
          "model_name": "DescriptionStyleModel",
          "model_module_version": "1.5.0",
          "state": {
            "_model_module": "@jupyter-widgets/controls",
            "_model_module_version": "1.5.0",
            "_model_name": "DescriptionStyleModel",
            "_view_count": null,
            "_view_module": "@jupyter-widgets/base",
            "_view_module_version": "1.2.0",
            "_view_name": "StyleView",
            "description_width": ""
          }
        },
        "d3cba7ae2a384f7a9296395a72cdd294": {
          "model_module": "@jupyter-widgets/base",
          "model_name": "LayoutModel",
          "model_module_version": "1.2.0",
          "state": {
            "_model_module": "@jupyter-widgets/base",
            "_model_module_version": "1.2.0",
            "_model_name": "LayoutModel",
            "_view_count": null,
            "_view_module": "@jupyter-widgets/base",
            "_view_module_version": "1.2.0",
            "_view_name": "LayoutView",
            "align_content": null,
            "align_items": null,
            "align_self": null,
            "border": null,
            "bottom": null,
            "display": null,
            "flex": null,
            "flex_flow": null,
            "grid_area": null,
            "grid_auto_columns": null,
            "grid_auto_flow": null,
            "grid_auto_rows": null,
            "grid_column": null,
            "grid_gap": null,
            "grid_row": null,
            "grid_template_areas": null,
            "grid_template_columns": null,
            "grid_template_rows": null,
            "height": null,
            "justify_content": null,
            "justify_items": null,
            "left": null,
            "margin": null,
            "max_height": null,
            "max_width": null,
            "min_height": null,
            "min_width": null,
            "object_fit": null,
            "object_position": null,
            "order": null,
            "overflow": null,
            "overflow_x": null,
            "overflow_y": null,
            "padding": null,
            "right": null,
            "top": null,
            "visibility": null,
            "width": null
          }
        },
        "234366bda897443787bb6164055cb1e1": {
          "model_module": "@jupyter-widgets/controls",
          "model_name": "ProgressStyleModel",
          "model_module_version": "1.5.0",
          "state": {
            "_model_module": "@jupyter-widgets/controls",
            "_model_module_version": "1.5.0",
            "_model_name": "ProgressStyleModel",
            "_view_count": null,
            "_view_module": "@jupyter-widgets/base",
            "_view_module_version": "1.2.0",
            "_view_name": "StyleView",
            "bar_color": null,
            "description_width": ""
          }
        },
        "8dba4703ab3f414096ef26b63b25d63d": {
          "model_module": "@jupyter-widgets/base",
          "model_name": "LayoutModel",
          "model_module_version": "1.2.0",
          "state": {
            "_model_module": "@jupyter-widgets/base",
            "_model_module_version": "1.2.0",
            "_model_name": "LayoutModel",
            "_view_count": null,
            "_view_module": "@jupyter-widgets/base",
            "_view_module_version": "1.2.0",
            "_view_name": "LayoutView",
            "align_content": null,
            "align_items": null,
            "align_self": null,
            "border": null,
            "bottom": null,
            "display": null,
            "flex": null,
            "flex_flow": null,
            "grid_area": null,
            "grid_auto_columns": null,
            "grid_auto_flow": null,
            "grid_auto_rows": null,
            "grid_column": null,
            "grid_gap": null,
            "grid_row": null,
            "grid_template_areas": null,
            "grid_template_columns": null,
            "grid_template_rows": null,
            "height": null,
            "justify_content": null,
            "justify_items": null,
            "left": null,
            "margin": null,
            "max_height": null,
            "max_width": null,
            "min_height": null,
            "min_width": null,
            "object_fit": null,
            "object_position": null,
            "order": null,
            "overflow": null,
            "overflow_x": null,
            "overflow_y": null,
            "padding": null,
            "right": null,
            "top": null,
            "visibility": null,
            "width": null
          }
        },
        "f42ac96cf4fa406b9d686ba488f423e6": {
          "model_module": "@jupyter-widgets/controls",
          "model_name": "DescriptionStyleModel",
          "model_module_version": "1.5.0",
          "state": {
            "_model_module": "@jupyter-widgets/controls",
            "_model_module_version": "1.5.0",
            "_model_name": "DescriptionStyleModel",
            "_view_count": null,
            "_view_module": "@jupyter-widgets/base",
            "_view_module_version": "1.2.0",
            "_view_name": "StyleView",
            "description_width": ""
          }
        },
        "f73330e0242b43cf9f9c75d2e33faa05": {
          "model_module": "@jupyter-widgets/controls",
          "model_name": "HBoxModel",
          "model_module_version": "1.5.0",
          "state": {
            "_dom_classes": [],
            "_model_module": "@jupyter-widgets/controls",
            "_model_module_version": "1.5.0",
            "_model_name": "HBoxModel",
            "_view_count": null,
            "_view_module": "@jupyter-widgets/controls",
            "_view_module_version": "1.5.0",
            "_view_name": "HBoxView",
            "box_style": "",
            "children": [
              "IPY_MODEL_3ce86d3df2cc4adaaab9cee192b70305",
              "IPY_MODEL_5552abdea79046f99df4aba9de984b2f",
              "IPY_MODEL_36e45e6678d14af1b67c0b71d7cac198"
            ],
            "layout": "IPY_MODEL_8cc92c76bfde44198ab354c9154608f9"
          }
        },
        "3ce86d3df2cc4adaaab9cee192b70305": {
          "model_module": "@jupyter-widgets/controls",
          "model_name": "HTMLModel",
          "model_module_version": "1.5.0",
          "state": {
            "_dom_classes": [],
            "_model_module": "@jupyter-widgets/controls",
            "_model_module_version": "1.5.0",
            "_model_name": "HTMLModel",
            "_view_count": null,
            "_view_module": "@jupyter-widgets/controls",
            "_view_module_version": "1.5.0",
            "_view_name": "HTMLView",
            "description": "",
            "description_tooltip": null,
            "layout": "IPY_MODEL_9ed91f2f27564e72a507804e81055c9f",
            "placeholder": "​",
            "style": "IPY_MODEL_bb56b5862f8e4647b441f4547b93df08",
            "value": "Downloading: 100%"
          }
        },
        "5552abdea79046f99df4aba9de984b2f": {
          "model_module": "@jupyter-widgets/controls",
          "model_name": "FloatProgressModel",
          "model_module_version": "1.5.0",
          "state": {
            "_dom_classes": [],
            "_model_module": "@jupyter-widgets/controls",
            "_model_module_version": "1.5.0",
            "_model_name": "FloatProgressModel",
            "_view_count": null,
            "_view_module": "@jupyter-widgets/controls",
            "_view_module_version": "1.5.0",
            "_view_name": "ProgressView",
            "bar_style": "success",
            "description": "",
            "description_tooltip": null,
            "layout": "IPY_MODEL_d4cf755f860e44d1be2084c7787153fc",
            "max": 262620,
            "min": 0,
            "orientation": "horizontal",
            "style": "IPY_MODEL_7eddb23c1ef043ea945e801287ece2b7",
            "value": 262620
          }
        },
        "36e45e6678d14af1b67c0b71d7cac198": {
          "model_module": "@jupyter-widgets/controls",
          "model_name": "HTMLModel",
          "model_module_version": "1.5.0",
          "state": {
            "_dom_classes": [],
            "_model_module": "@jupyter-widgets/controls",
            "_model_module_version": "1.5.0",
            "_model_name": "HTMLModel",
            "_view_count": null,
            "_view_module": "@jupyter-widgets/controls",
            "_view_module_version": "1.5.0",
            "_view_name": "HTMLView",
            "description": "",
            "description_tooltip": null,
            "layout": "IPY_MODEL_80c6379766574b468b4997cd1c3cfc04",
            "placeholder": "​",
            "style": "IPY_MODEL_e27622b37eba43cabc8ead5af3772d2a",
            "value": " 263k/263k [00:00&lt;00:00, 8.44kB/s]"
          }
        },
        "8cc92c76bfde44198ab354c9154608f9": {
          "model_module": "@jupyter-widgets/base",
          "model_name": "LayoutModel",
          "model_module_version": "1.2.0",
          "state": {
            "_model_module": "@jupyter-widgets/base",
            "_model_module_version": "1.2.0",
            "_model_name": "LayoutModel",
            "_view_count": null,
            "_view_module": "@jupyter-widgets/base",
            "_view_module_version": "1.2.0",
            "_view_name": "LayoutView",
            "align_content": null,
            "align_items": null,
            "align_self": null,
            "border": null,
            "bottom": null,
            "display": null,
            "flex": null,
            "flex_flow": null,
            "grid_area": null,
            "grid_auto_columns": null,
            "grid_auto_flow": null,
            "grid_auto_rows": null,
            "grid_column": null,
            "grid_gap": null,
            "grid_row": null,
            "grid_template_areas": null,
            "grid_template_columns": null,
            "grid_template_rows": null,
            "height": null,
            "justify_content": null,
            "justify_items": null,
            "left": null,
            "margin": null,
            "max_height": null,
            "max_width": null,
            "min_height": null,
            "min_width": null,
            "object_fit": null,
            "object_position": null,
            "order": null,
            "overflow": null,
            "overflow_x": null,
            "overflow_y": null,
            "padding": null,
            "right": null,
            "top": null,
            "visibility": null,
            "width": null
          }
        },
        "9ed91f2f27564e72a507804e81055c9f": {
          "model_module": "@jupyter-widgets/base",
          "model_name": "LayoutModel",
          "model_module_version": "1.2.0",
          "state": {
            "_model_module": "@jupyter-widgets/base",
            "_model_module_version": "1.2.0",
            "_model_name": "LayoutModel",
            "_view_count": null,
            "_view_module": "@jupyter-widgets/base",
            "_view_module_version": "1.2.0",
            "_view_name": "LayoutView",
            "align_content": null,
            "align_items": null,
            "align_self": null,
            "border": null,
            "bottom": null,
            "display": null,
            "flex": null,
            "flex_flow": null,
            "grid_area": null,
            "grid_auto_columns": null,
            "grid_auto_flow": null,
            "grid_auto_rows": null,
            "grid_column": null,
            "grid_gap": null,
            "grid_row": null,
            "grid_template_areas": null,
            "grid_template_columns": null,
            "grid_template_rows": null,
            "height": null,
            "justify_content": null,
            "justify_items": null,
            "left": null,
            "margin": null,
            "max_height": null,
            "max_width": null,
            "min_height": null,
            "min_width": null,
            "object_fit": null,
            "object_position": null,
            "order": null,
            "overflow": null,
            "overflow_x": null,
            "overflow_y": null,
            "padding": null,
            "right": null,
            "top": null,
            "visibility": null,
            "width": null
          }
        },
        "bb56b5862f8e4647b441f4547b93df08": {
          "model_module": "@jupyter-widgets/controls",
          "model_name": "DescriptionStyleModel",
          "model_module_version": "1.5.0",
          "state": {
            "_model_module": "@jupyter-widgets/controls",
            "_model_module_version": "1.5.0",
            "_model_name": "DescriptionStyleModel",
            "_view_count": null,
            "_view_module": "@jupyter-widgets/base",
            "_view_module_version": "1.2.0",
            "_view_name": "StyleView",
            "description_width": ""
          }
        },
        "d4cf755f860e44d1be2084c7787153fc": {
          "model_module": "@jupyter-widgets/base",
          "model_name": "LayoutModel",
          "model_module_version": "1.2.0",
          "state": {
            "_model_module": "@jupyter-widgets/base",
            "_model_module_version": "1.2.0",
            "_model_name": "LayoutModel",
            "_view_count": null,
            "_view_module": "@jupyter-widgets/base",
            "_view_module_version": "1.2.0",
            "_view_name": "LayoutView",
            "align_content": null,
            "align_items": null,
            "align_self": null,
            "border": null,
            "bottom": null,
            "display": null,
            "flex": null,
            "flex_flow": null,
            "grid_area": null,
            "grid_auto_columns": null,
            "grid_auto_flow": null,
            "grid_auto_rows": null,
            "grid_column": null,
            "grid_gap": null,
            "grid_row": null,
            "grid_template_areas": null,
            "grid_template_columns": null,
            "grid_template_rows": null,
            "height": null,
            "justify_content": null,
            "justify_items": null,
            "left": null,
            "margin": null,
            "max_height": null,
            "max_width": null,
            "min_height": null,
            "min_width": null,
            "object_fit": null,
            "object_position": null,
            "order": null,
            "overflow": null,
            "overflow_x": null,
            "overflow_y": null,
            "padding": null,
            "right": null,
            "top": null,
            "visibility": null,
            "width": null
          }
        },
        "7eddb23c1ef043ea945e801287ece2b7": {
          "model_module": "@jupyter-widgets/controls",
          "model_name": "ProgressStyleModel",
          "model_module_version": "1.5.0",
          "state": {
            "_model_module": "@jupyter-widgets/controls",
            "_model_module_version": "1.5.0",
            "_model_name": "ProgressStyleModel",
            "_view_count": null,
            "_view_module": "@jupyter-widgets/base",
            "_view_module_version": "1.2.0",
            "_view_name": "StyleView",
            "bar_color": null,
            "description_width": ""
          }
        },
        "80c6379766574b468b4997cd1c3cfc04": {
          "model_module": "@jupyter-widgets/base",
          "model_name": "LayoutModel",
          "model_module_version": "1.2.0",
          "state": {
            "_model_module": "@jupyter-widgets/base",
            "_model_module_version": "1.2.0",
            "_model_name": "LayoutModel",
            "_view_count": null,
            "_view_module": "@jupyter-widgets/base",
            "_view_module_version": "1.2.0",
            "_view_name": "LayoutView",
            "align_content": null,
            "align_items": null,
            "align_self": null,
            "border": null,
            "bottom": null,
            "display": null,
            "flex": null,
            "flex_flow": null,
            "grid_area": null,
            "grid_auto_columns": null,
            "grid_auto_flow": null,
            "grid_auto_rows": null,
            "grid_column": null,
            "grid_gap": null,
            "grid_row": null,
            "grid_template_areas": null,
            "grid_template_columns": null,
            "grid_template_rows": null,
            "height": null,
            "justify_content": null,
            "justify_items": null,
            "left": null,
            "margin": null,
            "max_height": null,
            "max_width": null,
            "min_height": null,
            "min_width": null,
            "object_fit": null,
            "object_position": null,
            "order": null,
            "overflow": null,
            "overflow_x": null,
            "overflow_y": null,
            "padding": null,
            "right": null,
            "top": null,
            "visibility": null,
            "width": null
          }
        },
        "e27622b37eba43cabc8ead5af3772d2a": {
          "model_module": "@jupyter-widgets/controls",
          "model_name": "DescriptionStyleModel",
          "model_module_version": "1.5.0",
          "state": {
            "_model_module": "@jupyter-widgets/controls",
            "_model_module_version": "1.5.0",
            "_model_name": "DescriptionStyleModel",
            "_view_count": null,
            "_view_module": "@jupyter-widgets/base",
            "_view_module_version": "1.2.0",
            "_view_name": "StyleView",
            "description_width": ""
          }
        }
      }
    }
  },
  "cells": [
    {
      "cell_type": "markdown",
      "metadata": {
        "id": "view-in-github",
        "colab_type": "text"
      },
      "source": [
        "<a href=\"https://colab.research.google.com/github/frknltrk/atasozu-onerici/blob/main/train.ipynb\" target=\"_parent\"><img src=\"https://colab.research.google.com/assets/colab-badge.svg\" alt=\"Open In Colab\"/></a>"
      ]
    },
    {
      "cell_type": "code",
      "source": [
        "!pip install pandas numpy gensim sklearn tensorflow tqdm joblib --upgrade"
      ],
      "metadata": {
        "id": "L1Rc_Wxv38Gp",
        "colab": {
          "base_uri": "https://localhost:8080/"
        },
        "outputId": "a4837609-4de0-4cee-86a1-fc59aa029772"
      },
      "execution_count": 1,
      "outputs": [
        {
          "output_type": "stream",
          "name": "stdout",
          "text": [
            "Looking in indexes: https://pypi.org/simple, https://us-python.pkg.dev/colab-wheels/public/simple/\n",
            "Requirement already satisfied: pandas in /usr/local/lib/python3.7/dist-packages (1.3.5)\n",
            "Requirement already satisfied: numpy in /usr/local/lib/python3.7/dist-packages (1.21.6)\n",
            "Requirement already satisfied: gensim in /usr/local/lib/python3.7/dist-packages (3.6.0)\n",
            "Collecting gensim\n",
            "  Downloading gensim-4.2.0-cp37-cp37m-manylinux_2_12_x86_64.manylinux2010_x86_64.whl (24.1 MB)\n",
            "\u001b[K     |████████████████████████████████| 24.1 MB 1.4 MB/s \n",
            "\u001b[?25hRequirement already satisfied: sklearn in /usr/local/lib/python3.7/dist-packages (0.0)\n",
            "Requirement already satisfied: tensorflow in /usr/local/lib/python3.7/dist-packages (2.8.2+zzzcolab20220527125636)\n",
            "Collecting tensorflow\n",
            "  Downloading tensorflow-2.9.1-cp37-cp37m-manylinux_2_17_x86_64.manylinux2014_x86_64.whl (511.7 MB)\n",
            "\u001b[K     |████████████████████████████████| 511.7 MB 6.3 kB/s \n",
            "\u001b[?25hRequirement already satisfied: tqdm in /usr/local/lib/python3.7/dist-packages (4.64.0)\n",
            "Requirement already satisfied: joblib in /usr/local/lib/python3.7/dist-packages (1.1.0)\n",
            "Requirement already satisfied: pytz>=2017.3 in /usr/local/lib/python3.7/dist-packages (from pandas) (2022.1)\n",
            "Requirement already satisfied: python-dateutil>=2.7.3 in /usr/local/lib/python3.7/dist-packages (from pandas) (2.8.2)\n",
            "Requirement already satisfied: six>=1.5 in /usr/local/lib/python3.7/dist-packages (from python-dateutil>=2.7.3->pandas) (1.15.0)\n",
            "Requirement already satisfied: smart-open>=1.8.1 in /usr/local/lib/python3.7/dist-packages (from gensim) (5.2.1)\n",
            "Requirement already satisfied: scipy>=0.18.1 in /usr/local/lib/python3.7/dist-packages (from gensim) (1.4.1)\n",
            "Requirement already satisfied: scikit-learn in /usr/local/lib/python3.7/dist-packages (from sklearn) (1.0.2)\n",
            "Collecting tensorflow-estimator<2.10.0,>=2.9.0rc0\n",
            "  Downloading tensorflow_estimator-2.9.0-py2.py3-none-any.whl (438 kB)\n",
            "\u001b[K     |████████████████████████████████| 438 kB 58.8 MB/s \n",
            "\u001b[?25hRequirement already satisfied: google-pasta>=0.1.1 in /usr/local/lib/python3.7/dist-packages (from tensorflow) (0.2.0)\n",
            "Collecting tensorboard<2.10,>=2.9\n",
            "  Downloading tensorboard-2.9.1-py3-none-any.whl (5.8 MB)\n",
            "\u001b[K     |████████████████████████████████| 5.8 MB 43.1 MB/s \n",
            "\u001b[?25hRequirement already satisfied: astunparse>=1.6.0 in /usr/local/lib/python3.7/dist-packages (from tensorflow) (1.6.3)\n",
            "Requirement already satisfied: setuptools in /usr/local/lib/python3.7/dist-packages (from tensorflow) (57.4.0)\n",
            "Requirement already satisfied: libclang>=13.0.0 in /usr/local/lib/python3.7/dist-packages (from tensorflow) (14.0.1)\n",
            "Requirement already satisfied: packaging in /usr/local/lib/python3.7/dist-packages (from tensorflow) (21.3)\n",
            "Requirement already satisfied: absl-py>=1.0.0 in /usr/local/lib/python3.7/dist-packages (from tensorflow) (1.1.0)\n",
            "Requirement already satisfied: grpcio<2.0,>=1.24.3 in /usr/local/lib/python3.7/dist-packages (from tensorflow) (1.46.3)\n",
            "Requirement already satisfied: protobuf<3.20,>=3.9.2 in /usr/local/lib/python3.7/dist-packages (from tensorflow) (3.17.3)\n",
            "Requirement already satisfied: wrapt>=1.11.0 in /usr/local/lib/python3.7/dist-packages (from tensorflow) (1.14.1)\n",
            "Collecting flatbuffers<2,>=1.12\n",
            "  Downloading flatbuffers-1.12-py2.py3-none-any.whl (15 kB)\n",
            "Requirement already satisfied: h5py>=2.9.0 in /usr/local/lib/python3.7/dist-packages (from tensorflow) (3.1.0)\n",
            "Collecting keras<2.10.0,>=2.9.0rc0\n",
            "  Downloading keras-2.9.0-py2.py3-none-any.whl (1.6 MB)\n",
            "\u001b[K     |████████████████████████████████| 1.6 MB 46.2 MB/s \n",
            "\u001b[?25hRequirement already satisfied: tensorflow-io-gcs-filesystem>=0.23.1 in /usr/local/lib/python3.7/dist-packages (from tensorflow) (0.26.0)\n",
            "Requirement already satisfied: typing-extensions>=3.6.6 in /usr/local/lib/python3.7/dist-packages (from tensorflow) (4.1.1)\n",
            "Requirement already satisfied: termcolor>=1.1.0 in /usr/local/lib/python3.7/dist-packages (from tensorflow) (1.1.0)\n",
            "Requirement already satisfied: keras-preprocessing>=1.1.1 in /usr/local/lib/python3.7/dist-packages (from tensorflow) (1.1.2)\n",
            "Requirement already satisfied: opt-einsum>=2.3.2 in /usr/local/lib/python3.7/dist-packages (from tensorflow) (3.3.0)\n",
            "Collecting gast<=0.4.0,>=0.2.1\n",
            "  Downloading gast-0.4.0-py3-none-any.whl (9.8 kB)\n",
            "Requirement already satisfied: wheel<1.0,>=0.23.0 in /usr/local/lib/python3.7/dist-packages (from astunparse>=1.6.0->tensorflow) (0.37.1)\n",
            "Requirement already satisfied: cached-property in /usr/local/lib/python3.7/dist-packages (from h5py>=2.9.0->tensorflow) (1.5.2)\n",
            "Requirement already satisfied: tensorboard-data-server<0.7.0,>=0.6.0 in /usr/local/lib/python3.7/dist-packages (from tensorboard<2.10,>=2.9->tensorflow) (0.6.1)\n",
            "Requirement already satisfied: tensorboard-plugin-wit>=1.6.0 in /usr/local/lib/python3.7/dist-packages (from tensorboard<2.10,>=2.9->tensorflow) (1.8.1)\n",
            "Requirement already satisfied: google-auth-oauthlib<0.5,>=0.4.1 in /usr/local/lib/python3.7/dist-packages (from tensorboard<2.10,>=2.9->tensorflow) (0.4.6)\n",
            "Requirement already satisfied: requests<3,>=2.21.0 in /usr/local/lib/python3.7/dist-packages (from tensorboard<2.10,>=2.9->tensorflow) (2.23.0)\n",
            "Requirement already satisfied: google-auth<3,>=1.6.3 in /usr/local/lib/python3.7/dist-packages (from tensorboard<2.10,>=2.9->tensorflow) (1.35.0)\n",
            "Requirement already satisfied: werkzeug>=1.0.1 in /usr/local/lib/python3.7/dist-packages (from tensorboard<2.10,>=2.9->tensorflow) (1.0.1)\n",
            "Requirement already satisfied: markdown>=2.6.8 in /usr/local/lib/python3.7/dist-packages (from tensorboard<2.10,>=2.9->tensorflow) (3.3.7)\n",
            "Requirement already satisfied: pyasn1-modules>=0.2.1 in /usr/local/lib/python3.7/dist-packages (from google-auth<3,>=1.6.3->tensorboard<2.10,>=2.9->tensorflow) (0.2.8)\n",
            "Requirement already satisfied: rsa<5,>=3.1.4 in /usr/local/lib/python3.7/dist-packages (from google-auth<3,>=1.6.3->tensorboard<2.10,>=2.9->tensorflow) (4.8)\n",
            "Requirement already satisfied: cachetools<5.0,>=2.0.0 in /usr/local/lib/python3.7/dist-packages (from google-auth<3,>=1.6.3->tensorboard<2.10,>=2.9->tensorflow) (4.2.4)\n",
            "Requirement already satisfied: requests-oauthlib>=0.7.0 in /usr/local/lib/python3.7/dist-packages (from google-auth-oauthlib<0.5,>=0.4.1->tensorboard<2.10,>=2.9->tensorflow) (1.3.1)\n",
            "Requirement already satisfied: importlib-metadata>=4.4 in /usr/local/lib/python3.7/dist-packages (from markdown>=2.6.8->tensorboard<2.10,>=2.9->tensorflow) (4.11.4)\n",
            "Requirement already satisfied: zipp>=0.5 in /usr/local/lib/python3.7/dist-packages (from importlib-metadata>=4.4->markdown>=2.6.8->tensorboard<2.10,>=2.9->tensorflow) (3.8.0)\n",
            "Requirement already satisfied: pyasn1<0.5.0,>=0.4.6 in /usr/local/lib/python3.7/dist-packages (from pyasn1-modules>=0.2.1->google-auth<3,>=1.6.3->tensorboard<2.10,>=2.9->tensorflow) (0.4.8)\n",
            "Requirement already satisfied: certifi>=2017.4.17 in /usr/local/lib/python3.7/dist-packages (from requests<3,>=2.21.0->tensorboard<2.10,>=2.9->tensorflow) (2022.6.15)\n",
            "Requirement already satisfied: chardet<4,>=3.0.2 in /usr/local/lib/python3.7/dist-packages (from requests<3,>=2.21.0->tensorboard<2.10,>=2.9->tensorflow) (3.0.4)\n",
            "Requirement already satisfied: idna<3,>=2.5 in /usr/local/lib/python3.7/dist-packages (from requests<3,>=2.21.0->tensorboard<2.10,>=2.9->tensorflow) (2.10)\n",
            "Requirement already satisfied: urllib3!=1.25.0,!=1.25.1,<1.26,>=1.21.1 in /usr/local/lib/python3.7/dist-packages (from requests<3,>=2.21.0->tensorboard<2.10,>=2.9->tensorflow) (1.24.3)\n",
            "Requirement already satisfied: oauthlib>=3.0.0 in /usr/local/lib/python3.7/dist-packages (from requests-oauthlib>=0.7.0->google-auth-oauthlib<0.5,>=0.4.1->tensorboard<2.10,>=2.9->tensorflow) (3.2.0)\n",
            "Requirement already satisfied: pyparsing!=3.0.5,>=2.0.2 in /usr/local/lib/python3.7/dist-packages (from packaging->tensorflow) (3.0.9)\n",
            "Requirement already satisfied: threadpoolctl>=2.0.0 in /usr/local/lib/python3.7/dist-packages (from scikit-learn->sklearn) (3.1.0)\n",
            "Installing collected packages: tensorflow-estimator, tensorboard, keras, gast, flatbuffers, tensorflow, gensim\n",
            "  Attempting uninstall: tensorflow-estimator\n",
            "    Found existing installation: tensorflow-estimator 2.8.0\n",
            "    Uninstalling tensorflow-estimator-2.8.0:\n",
            "      Successfully uninstalled tensorflow-estimator-2.8.0\n",
            "  Attempting uninstall: tensorboard\n",
            "    Found existing installation: tensorboard 2.8.0\n",
            "    Uninstalling tensorboard-2.8.0:\n",
            "      Successfully uninstalled tensorboard-2.8.0\n",
            "  Attempting uninstall: keras\n",
            "    Found existing installation: keras 2.8.0\n",
            "    Uninstalling keras-2.8.0:\n",
            "      Successfully uninstalled keras-2.8.0\n",
            "  Attempting uninstall: gast\n",
            "    Found existing installation: gast 0.5.3\n",
            "    Uninstalling gast-0.5.3:\n",
            "      Successfully uninstalled gast-0.5.3\n",
            "  Attempting uninstall: flatbuffers\n",
            "    Found existing installation: flatbuffers 2.0\n",
            "    Uninstalling flatbuffers-2.0:\n",
            "      Successfully uninstalled flatbuffers-2.0\n",
            "  Attempting uninstall: tensorflow\n",
            "    Found existing installation: tensorflow 2.8.2+zzzcolab20220527125636\n",
            "    Uninstalling tensorflow-2.8.2+zzzcolab20220527125636:\n",
            "      Successfully uninstalled tensorflow-2.8.2+zzzcolab20220527125636\n",
            "  Attempting uninstall: gensim\n",
            "    Found existing installation: gensim 3.6.0\n",
            "    Uninstalling gensim-3.6.0:\n",
            "      Successfully uninstalled gensim-3.6.0\n",
            "Successfully installed flatbuffers-1.12 gast-0.4.0 gensim-4.2.0 keras-2.9.0 tensorboard-2.9.1 tensorflow-2.9.1 tensorflow-estimator-2.9.0\n"
          ]
        }
      ]
    },
    {
      "cell_type": "code",
      "source": [
        "# https://medium.com/@vkmauryavk/get-execution-time-on-every-cell-execution-on-google-colab-bbcb31e5a262\n",
        "!pip install ipython-autotime\n",
        "%load_ext autotime"
      ],
      "metadata": {
        "id": "0wYrDomPpYah",
        "colab": {
          "base_uri": "https://localhost:8080/"
        },
        "outputId": "0883fa4e-923f-4a87-84c2-d7bbd1363f11"
      },
      "execution_count": 2,
      "outputs": [
        {
          "output_type": "stream",
          "name": "stdout",
          "text": [
            "Looking in indexes: https://pypi.org/simple, https://us-python.pkg.dev/colab-wheels/public/simple/\n",
            "Collecting ipython-autotime\n",
            "  Downloading ipython_autotime-0.3.1-py2.py3-none-any.whl (6.8 kB)\n",
            "Requirement already satisfied: ipython in /usr/local/lib/python3.7/dist-packages (from ipython-autotime) (5.5.0)\n",
            "Requirement already satisfied: traitlets>=4.2 in /usr/local/lib/python3.7/dist-packages (from ipython->ipython-autotime) (5.1.1)\n",
            "Requirement already satisfied: pickleshare in /usr/local/lib/python3.7/dist-packages (from ipython->ipython-autotime) (0.7.5)\n",
            "Requirement already satisfied: simplegeneric>0.8 in /usr/local/lib/python3.7/dist-packages (from ipython->ipython-autotime) (0.8.1)\n",
            "Requirement already satisfied: decorator in /usr/local/lib/python3.7/dist-packages (from ipython->ipython-autotime) (4.4.2)\n",
            "Requirement already satisfied: prompt-toolkit<2.0.0,>=1.0.4 in /usr/local/lib/python3.7/dist-packages (from ipython->ipython-autotime) (1.0.18)\n",
            "Requirement already satisfied: pexpect in /usr/local/lib/python3.7/dist-packages (from ipython->ipython-autotime) (4.8.0)\n",
            "Requirement already satisfied: setuptools>=18.5 in /usr/local/lib/python3.7/dist-packages (from ipython->ipython-autotime) (57.4.0)\n",
            "Requirement already satisfied: pygments in /usr/local/lib/python3.7/dist-packages (from ipython->ipython-autotime) (2.6.1)\n",
            "Requirement already satisfied: wcwidth in /usr/local/lib/python3.7/dist-packages (from prompt-toolkit<2.0.0,>=1.0.4->ipython->ipython-autotime) (0.2.5)\n",
            "Requirement already satisfied: six>=1.9.0 in /usr/local/lib/python3.7/dist-packages (from prompt-toolkit<2.0.0,>=1.0.4->ipython->ipython-autotime) (1.15.0)\n",
            "Requirement already satisfied: ptyprocess>=0.5 in /usr/local/lib/python3.7/dist-packages (from pexpect->ipython->ipython-autotime) (0.7.0)\n",
            "Installing collected packages: ipython-autotime\n",
            "Successfully installed ipython-autotime-0.3.1\n",
            "time: 199 µs (started: 2022-06-23 12:30:06 +00:00)\n"
          ]
        }
      ]
    },
    {
      "cell_type": "code",
      "source": [
        "import os\n",
        "os.chdir(\"/content/drive/MyDrive/Colab Notebooks/Atasozleri\")\n",
        "print(os.getcwd())"
      ],
      "metadata": {
        "colab": {
          "base_uri": "https://localhost:8080/"
        },
        "id": "xG1u4ef2FDom",
        "outputId": "ad9ab943-b5f9-4a3d-a5a8-c8ba535fb0e7"
      },
      "execution_count": 3,
      "outputs": [
        {
          "output_type": "stream",
          "name": "stdout",
          "text": [
            "/content/drive/MyDrive/Colab Notebooks/Atasozleri\n",
            "time: 4.18 ms (started: 2022-06-23 12:30:06 +00:00)\n"
          ]
        }
      ]
    },
    {
      "cell_type": "markdown",
      "source": [
        "## Hazırlık"
      ],
      "metadata": {
        "id": "BGWrrWt-5FzP"
      }
    },
    {
      "cell_type": "code",
      "source": [
        "import pandas as pd\n",
        "import re"
      ],
      "metadata": {
        "id": "ZJFDXhZYEmV_",
        "colab": {
          "base_uri": "https://localhost:8080/"
        },
        "outputId": "de106c26-b626-4276-f0cb-a4145e5f6ae1"
      },
      "execution_count": 4,
      "outputs": [
        {
          "output_type": "stream",
          "name": "stdout",
          "text": [
            "time: 534 ms (started: 2022-06-23 12:30:06 +00:00)\n"
          ]
        }
      ]
    },
    {
      "cell_type": "code",
      "source": [
        "from google.colab import data_table\n",
        "data_table.enable_dataframe_formatter()"
      ],
      "metadata": {
        "id": "MyPUaTTXFmX9",
        "colab": {
          "base_uri": "https://localhost:8080/"
        },
        "outputId": "0c3286c8-2875-4e77-ad80-b954f0153374"
      },
      "execution_count": 5,
      "outputs": [
        {
          "output_type": "stream",
          "name": "stdout",
          "text": [
            "time: 1.63 ms (started: 2022-06-23 12:30:06 +00:00)\n"
          ]
        }
      ]
    },
    {
      "cell_type": "code",
      "source": [
        "df = pd.read_csv('atasozleri_islenecek.csv', index_col=[0], na_filter=False)"
      ],
      "metadata": {
        "id": "9C8qxUnREodK",
        "colab": {
          "base_uri": "https://localhost:8080/"
        },
        "outputId": "2a63897d-58f2-41d2-8503-458f674d02a1"
      },
      "execution_count": 18,
      "outputs": [
        {
          "output_type": "stream",
          "name": "stdout",
          "text": [
            "time: 73.7 ms (started: 2022-06-23 12:33:04 +00:00)\n"
          ]
        }
      ]
    },
    {
      "cell_type": "markdown",
      "source": [
        "## Önişleme"
      ],
      "metadata": {
        "id": "ucfLHAG9Vsyn"
      }
    },
    {
      "cell_type": "code",
      "source": [
        "# https://zeyrek.readthedocs.io/en/latest/\n",
        "!pip install zeyrek nltk\n",
        "import zeyrek, nltk\n",
        "nltk.download('punkt')\n",
        "nltk.download('stopwords')\n",
        "analyzer = zeyrek.MorphAnalyzer()"
      ],
      "metadata": {
        "id": "2OFEk-RmtH_0",
        "colab": {
          "base_uri": "https://localhost:8080/"
        },
        "outputId": "24d5b074-41d5-4272-8f8a-46a2c0ecae58"
      },
      "execution_count": 10,
      "outputs": [
        {
          "output_type": "stream",
          "name": "stdout",
          "text": [
            "Looking in indexes: https://pypi.org/simple, https://us-python.pkg.dev/colab-wheels/public/simple/\n",
            "Collecting zeyrek\n",
            "  Downloading zeyrek-0.1.2-py2.py3-none-any.whl (930 kB)\n",
            "\u001b[K     |████████████████████████████████| 930 kB 10.1 MB/s \n",
            "\u001b[?25hRequirement already satisfied: nltk in /usr/local/lib/python3.7/dist-packages (3.7)\n",
            "Requirement already satisfied: regex>=2021.8.3 in /usr/local/lib/python3.7/dist-packages (from nltk) (2022.6.2)\n",
            "Requirement already satisfied: tqdm in /usr/local/lib/python3.7/dist-packages (from nltk) (4.64.0)\n",
            "Requirement already satisfied: joblib in /usr/local/lib/python3.7/dist-packages (from nltk) (1.1.0)\n",
            "Requirement already satisfied: click in /usr/local/lib/python3.7/dist-packages (from nltk) (7.1.2)\n",
            "Installing collected packages: zeyrek\n",
            "Successfully installed zeyrek-0.1.2\n"
          ]
        },
        {
          "output_type": "stream",
          "name": "stderr",
          "text": [
            "[nltk_data] Downloading package punkt to /root/nltk_data...\n",
            "[nltk_data]   Unzipping tokenizers/punkt.zip.\n",
            "[nltk_data] Downloading package stopwords to /root/nltk_data...\n",
            "[nltk_data]   Unzipping corpora/stopwords.zip.\n"
          ]
        },
        {
          "output_type": "stream",
          "name": "stdout",
          "text": [
            "time: 13.5 s (started: 2022-06-23 12:30:07 +00:00)\n"
          ]
        }
      ]
    },
    {
      "cell_type": "code",
      "execution_count": 45,
      "metadata": {
        "id": "GFwRLbrgsPfR",
        "colab": {
          "base_uri": "https://localhost:8080/"
        },
        "outputId": "df5bfbe9-0188-43b5-e7e1-7ea823b83b86"
      },
      "outputs": [
        {
          "output_type": "stream",
          "name": "stdout",
          "text": [
            "time: 52.4 ms (started: 2022-06-23 12:54:09 +00:00)\n"
          ]
        }
      ],
      "source": [
        "def temizle(metin):\n",
        "  metin = re.sub('İ', 'i', metin) # lower fonksiyonu büyük İ harfinde nedense çalışmıyor\n",
        "  metin = metin.lower()\n",
        "  metin = re.sub('[^\\w\\s]', ' ', metin) # yalnızca kelimeler ve boşluklar (whitespace character) kalacak\n",
        "  return metin\n",
        "  \n",
        "def parcala(metin): # tokenize\n",
        "  '''Kelimenin kendisi ile son lemma'sını alır.'''\n",
        "  metin = temizle(metin)\n",
        "  ogeler = analyzer.lemmatize(metin) # ogeler: tuples\n",
        "  parcalar = [] # parca: token\n",
        "  for kelime, adaylar in ogeler:\n",
        "    if len(kelime)<2 or len(kelime)>20 or kelime in nltk.corpus.stopwords.words('turkish'): continue\n",
        "    lemma = adaylar[0]\n",
        "#   lemma = max(adaylar, key=lambda a: len(a[:-3]) if a.endswith(\"mek\") or a.endswith(\"mak\") else len(a))\n",
        "    if len(lemma)<2 or len(lemma)>20: continue\n",
        "    lemma = lemma.lower()\n",
        "    if kelime == lemma:\n",
        "      parcalar.append(lemma)\n",
        "    else:\n",
        "      parcalar.extend([kelime, lemma])\n",
        "  return parcalar # return ', '.join(parcalar)"
      ]
    },
    {
      "cell_type": "code",
      "source": [
        "df['parcalar'] = df['anlam'].apply(parcala)"
      ],
      "metadata": {
        "id": "cHfCQDXvsp6f",
        "colab": {
          "base_uri": "https://localhost:8080/"
        },
        "outputId": "905a277f-3926-4843-cc3f-ce47cd67a9ed"
      },
      "execution_count": 47,
      "outputs": [
        {
          "output_type": "stream",
          "name": "stdout",
          "text": [
            "time: 2min 58s (started: 2022-06-23 12:56:31 +00:00)\n"
          ]
        }
      ]
    },
    {
      "cell_type": "markdown",
      "source": [
        "## Eğit"
      ],
      "metadata": {
        "id": "X_z5QXRlVlQq"
      }
    },
    {
      "cell_type": "markdown",
      "source": [
        "### TF-IDF"
      ],
      "metadata": {
        "id": "TvajvRpYWclD"
      }
    },
    {
      "cell_type": "code",
      "source": [
        "# https://radimrehurek.com/gensim/models/tfidfmodel.html\n",
        "from gensim.models import TfidfModel\n",
        "from gensim.corpora import Dictionary\n",
        "kume = df['parcalar'].to_list()\n",
        "dct = Dictionary(kume)  # fit dictionary\n",
        "derlem = [dct.doc2bow(parca_listesi) for parca_listesi in kume]  # convert corpus to BoW format\n",
        "model = TfidfModel(derlem) # fit model"
      ],
      "metadata": {
        "colab": {
          "base_uri": "https://localhost:8080/"
        },
        "id": "ARvegv4hEovs",
        "outputId": "3562ccd2-0ce0-402a-9a0a-86b77142d00f"
      },
      "execution_count": null,
      "outputs": [
        {
          "output_type": "stream",
          "name": "stdout",
          "text": [
            "time: 568 ms (started: 2022-06-09 14:40:57 +00:00)\n"
          ]
        }
      ]
    },
    {
      "cell_type": "code",
      "source": [
        "# https://radimrehurek.com/gensim/auto_examples/core/run_similarity_queries.html\n",
        "from gensim import similarities\n",
        "ms_tfidf = similarities.MatrixSimilarity(model[derlem])\n",
        "\n",
        "def oner_tfidf(cumle, ilk_n=5):  \n",
        "  \"\"\"\n",
        "  Return the database sentences in order of highest cosine similarity relatively to each \n",
        "  token of the target sentence. \n",
        "  \"\"\"\n",
        "  # Embed the query sentence\n",
        "  cumle_parcalar = parcala(cumle)\n",
        "  cumle_vektor = dct.doc2bow(cumle_parcalar)\n",
        "  # Create list with similarity between query and dataset\n",
        "  benzerler = ms_tfidf[cumle_vektor]\n",
        "  # Best cosine distance for each token independantly\n",
        "  sonuclar = sorted(enumerate(benzerler), key=lambda item: -item[1])\n",
        "  # Return the indices of top k result\n",
        "  return [indis for indis, skor in sonuclar][:ilk_n]"
      ],
      "metadata": {
        "id": "gaEHeyE2FxHH",
        "colab": {
          "base_uri": "https://localhost:8080/"
        },
        "outputId": "bbe42b74-63d2-4843-b693-d965f2b1d1e0"
      },
      "execution_count": null,
      "outputs": [
        {
          "output_type": "stream",
          "name": "stdout",
          "text": [
            "time: 734 ms (started: 2022-06-09 14:40:58 +00:00)\n"
          ]
        }
      ]
    },
    {
      "cell_type": "code",
      "source": [
        "ORNEK_SORGU = \"zamanında dedenin yaptığı hatalar bugün senin\""
      ],
      "metadata": {
        "id": "g1ylU_4tcX-a",
        "colab": {
          "base_uri": "https://localhost:8080/"
        },
        "outputId": "fb8e23a9-ad3b-4d77-d7cb-619fdc649ae9"
      },
      "execution_count": null,
      "outputs": [
        {
          "output_type": "stream",
          "name": "stdout",
          "text": [
            "time: 781 µs (started: 2022-06-09 14:40:58 +00:00)\n"
          ]
        }
      ]
    },
    {
      "cell_type": "code",
      "source": [
        "eniyi_indisler = oner_tfidf(ORNEK_SORGU)\n",
        "df.iloc[eniyi_indisler]"
      ],
      "metadata": {
        "id": "ZVHnKa-YHWHF",
        "colab": {
          "base_uri": "https://localhost:8080/",
          "height": 562
        },
        "outputId": "cd640cdd-827f-4bcc-99f5-b22b7c5f7ce5"
      },
      "execution_count": null,
      "outputs": [
        {
          "output_type": "execute_result",
          "data": {
            "text/plain": [
              "                                               title  \\\n",
              "pageid                                                 \n",
              "231312          Herkesin geçtiği köprüden sen de geç   \n",
              "231299           Hayır dile eşine, hayır gele başına   \n",
              "181572                           Gelen gideni aratır   \n",
              "181516  Aba vakti aba, yaba vakti yaba alan yanılmaz   \n",
              "230355                         Ada bana, adayım sana   \n",
              "\n",
              "                                                    anlam  \\\n",
              "pageid                                                      \n",
              "231312  # Sana uygun görünmese bile herkesin yaptığı i...   \n",
              "231299  # Sen başkaları için iyi şeyler dile ve yap ki...   \n",
              "181572  # \"Tanışılan kişiler,unutulanlardan daha büyük...   \n",
              "181516  # \"Her şey zamanında yapılırsa kişi kazançlı o...   \n",
              "230355  # Sen bir kimse için fedakarlıkta bulunursan o...   \n",
              "\n",
              "                                                 parcalar  \n",
              "pageid                                                     \n",
              "231312  [sana, uygun, görünmese, görünmek, bile, herke...  \n",
              "231299  [sen, başkaları, başka, iyi, şeyler, şey, dile...  \n",
              "181572  [tanışılan, tanışmak, kişiler, kişi, unutulanl...  \n",
              "181516  [zamanında, yapılırsa, yapmak, kişi, kazançlı,...  \n",
              "230355  [sen, bir, kimse, fedakarlıkta, fedakâr, bulun...  "
            ],
            "text/html": [
              "\n",
              "  <div id=\"df-7ff195a9-a8b1-426e-a2d4-6d9d1c2be00c\">\n",
              "    <div class=\"colab-df-container\">\n",
              "      <div>\n",
              "<style scoped>\n",
              "    .dataframe tbody tr th:only-of-type {\n",
              "        vertical-align: middle;\n",
              "    }\n",
              "\n",
              "    .dataframe tbody tr th {\n",
              "        vertical-align: top;\n",
              "    }\n",
              "\n",
              "    .dataframe thead th {\n",
              "        text-align: right;\n",
              "    }\n",
              "</style>\n",
              "<table border=\"1\" class=\"dataframe\">\n",
              "  <thead>\n",
              "    <tr style=\"text-align: right;\">\n",
              "      <th></th>\n",
              "      <th>title</th>\n",
              "      <th>anlam</th>\n",
              "      <th>parcalar</th>\n",
              "    </tr>\n",
              "    <tr>\n",
              "      <th>pageid</th>\n",
              "      <th></th>\n",
              "      <th></th>\n",
              "      <th></th>\n",
              "    </tr>\n",
              "  </thead>\n",
              "  <tbody>\n",
              "    <tr>\n",
              "      <th>231312</th>\n",
              "      <td>Herkesin geçtiği köprüden sen de geç</td>\n",
              "      <td># Sana uygun görünmese bile herkesin yaptığı i...</td>\n",
              "      <td>[sana, uygun, görünmese, görünmek, bile, herke...</td>\n",
              "    </tr>\n",
              "    <tr>\n",
              "      <th>231299</th>\n",
              "      <td>Hayır dile eşine, hayır gele başına</td>\n",
              "      <td># Sen başkaları için iyi şeyler dile ve yap ki...</td>\n",
              "      <td>[sen, başkaları, başka, iyi, şeyler, şey, dile...</td>\n",
              "    </tr>\n",
              "    <tr>\n",
              "      <th>181572</th>\n",
              "      <td>Gelen gideni aratır</td>\n",
              "      <td># \"Tanışılan kişiler,unutulanlardan daha büyük...</td>\n",
              "      <td>[tanışılan, tanışmak, kişiler, kişi, unutulanl...</td>\n",
              "    </tr>\n",
              "    <tr>\n",
              "      <th>181516</th>\n",
              "      <td>Aba vakti aba, yaba vakti yaba alan yanılmaz</td>\n",
              "      <td># \"Her şey zamanında yapılırsa kişi kazançlı o...</td>\n",
              "      <td>[zamanında, yapılırsa, yapmak, kişi, kazançlı,...</td>\n",
              "    </tr>\n",
              "    <tr>\n",
              "      <th>230355</th>\n",
              "      <td>Ada bana, adayım sana</td>\n",
              "      <td># Sen bir kimse için fedakarlıkta bulunursan o...</td>\n",
              "      <td>[sen, bir, kimse, fedakarlıkta, fedakâr, bulun...</td>\n",
              "    </tr>\n",
              "  </tbody>\n",
              "</table>\n",
              "</div>\n",
              "      <button class=\"colab-df-convert\" onclick=\"convertToInteractive('df-7ff195a9-a8b1-426e-a2d4-6d9d1c2be00c')\"\n",
              "              title=\"Convert this dataframe to an interactive table.\"\n",
              "              style=\"display:none;\">\n",
              "        \n",
              "  <svg xmlns=\"http://www.w3.org/2000/svg\" height=\"24px\"viewBox=\"0 0 24 24\"\n",
              "       width=\"24px\">\n",
              "    <path d=\"M0 0h24v24H0V0z\" fill=\"none\"/>\n",
              "    <path d=\"M18.56 5.44l.94 2.06.94-2.06 2.06-.94-2.06-.94-.94-2.06-.94 2.06-2.06.94zm-11 1L8.5 8.5l.94-2.06 2.06-.94-2.06-.94L8.5 2.5l-.94 2.06-2.06.94zm10 10l.94 2.06.94-2.06 2.06-.94-2.06-.94-.94-2.06-.94 2.06-2.06.94z\"/><path d=\"M17.41 7.96l-1.37-1.37c-.4-.4-.92-.59-1.43-.59-.52 0-1.04.2-1.43.59L10.3 9.45l-7.72 7.72c-.78.78-.78 2.05 0 2.83L4 21.41c.39.39.9.59 1.41.59.51 0 1.02-.2 1.41-.59l7.78-7.78 2.81-2.81c.8-.78.8-2.07 0-2.86zM5.41 20L4 18.59l7.72-7.72 1.47 1.35L5.41 20z\"/>\n",
              "  </svg>\n",
              "      </button>\n",
              "      \n",
              "  <style>\n",
              "    .colab-df-container {\n",
              "      display:flex;\n",
              "      flex-wrap:wrap;\n",
              "      gap: 12px;\n",
              "    }\n",
              "\n",
              "    .colab-df-convert {\n",
              "      background-color: #E8F0FE;\n",
              "      border: none;\n",
              "      border-radius: 50%;\n",
              "      cursor: pointer;\n",
              "      display: none;\n",
              "      fill: #1967D2;\n",
              "      height: 32px;\n",
              "      padding: 0 0 0 0;\n",
              "      width: 32px;\n",
              "    }\n",
              "\n",
              "    .colab-df-convert:hover {\n",
              "      background-color: #E2EBFA;\n",
              "      box-shadow: 0px 1px 2px rgba(60, 64, 67, 0.3), 0px 1px 3px 1px rgba(60, 64, 67, 0.15);\n",
              "      fill: #174EA6;\n",
              "    }\n",
              "\n",
              "    [theme=dark] .colab-df-convert {\n",
              "      background-color: #3B4455;\n",
              "      fill: #D2E3FC;\n",
              "    }\n",
              "\n",
              "    [theme=dark] .colab-df-convert:hover {\n",
              "      background-color: #434B5C;\n",
              "      box-shadow: 0px 1px 3px 1px rgba(0, 0, 0, 0.15);\n",
              "      filter: drop-shadow(0px 1px 2px rgba(0, 0, 0, 0.3));\n",
              "      fill: #FFFFFF;\n",
              "    }\n",
              "  </style>\n",
              "\n",
              "      <script>\n",
              "        const buttonEl =\n",
              "          document.querySelector('#df-7ff195a9-a8b1-426e-a2d4-6d9d1c2be00c button.colab-df-convert');\n",
              "        buttonEl.style.display =\n",
              "          google.colab.kernel.accessAllowed ? 'block' : 'none';\n",
              "\n",
              "        async function convertToInteractive(key) {\n",
              "          const element = document.querySelector('#df-7ff195a9-a8b1-426e-a2d4-6d9d1c2be00c');\n",
              "          const dataTable =\n",
              "            await google.colab.kernel.invokeFunction('convertToInteractive',\n",
              "                                                     [key], {});\n",
              "          if (!dataTable) return;\n",
              "\n",
              "          const docLinkHtml = 'Like what you see? Visit the ' +\n",
              "            '<a target=\"_blank\" href=https://colab.research.google.com/notebooks/data_table.ipynb>data table notebook</a>'\n",
              "            + ' to learn more about interactive tables.';\n",
              "          element.innerHTML = '';\n",
              "          dataTable['output_type'] = 'display_data';\n",
              "          await google.colab.output.renderOutput(dataTable, element);\n",
              "          const docLink = document.createElement('div');\n",
              "          docLink.innerHTML = docLinkHtml;\n",
              "          element.appendChild(docLink);\n",
              "        }\n",
              "      </script>\n",
              "    </div>\n",
              "  </div>\n",
              "  "
            ],
            "application/vnd.google.colaboratory.module+javascript": "\n      import \"https://ssl.gstatic.com/colaboratory/data_table/f872b2c2305463fd/data_table.js\";\n\n      window.createDataTable({\n        data: [[{\n            'v': 231312,\n            'f': \"231312\",\n        },\n\"Herkesin ge\\u00e7ti\\u011fi k\\u00f6pr\\u00fcden sen de ge\\u00e7\",\n\"# Sana uygun g\\u00f6r\\u00fcnmese bile herkesin yapt\\u0131\\u011f\\u0131 i\\u015fi sen de yap. \",\n[\"sana\", \"uygun\", \"g\\u00f6r\\u00fcnmese\", \"g\\u00f6r\\u00fcnmek\", \"bile\", \"herkesin\", \"herkes\", \"yapt\\u0131\\u011f\\u0131\", \"yapmak\", \"i\\u015fi\", \"i\\u015f\", \"sen\", \"yap\", \"yapmak\"]],\n [{\n            'v': 231299,\n            'f': \"231299\",\n        },\n\"Hay\\u0131r dile e\\u015fine, hay\\u0131r gele ba\\u015f\\u0131na\",\n\"# Sen ba\\u015fkalar\\u0131 i\\u00e7in iyi \\u015feyler dile ve yap ki ba\\u015fkalar\\u0131 da senin i\\u00e7in iyi \\u015feyler dilesin, yaps\\u0131n. \",\n[\"sen\", \"ba\\u015fkalar\\u0131\", \"ba\\u015fka\", \"iyi\", \"\\u015feyler\", \"\\u015fey\", \"dile\", \"dilemek\", \"yap\", \"yapmak\", \"ba\\u015fkalar\\u0131\", \"ba\\u015fka\", \"senin\", \"sen\", \"iyi\", \"\\u015feyler\", \"\\u015fey\", \"dilesin\", \"dilemek\", \"yaps\\u0131n\", \"yapmak\"]],\n [{\n            'v': 181572,\n            'f': \"181572\",\n        },\n\"Gelen gideni arat\\u0131r\",\n\"# \\\"Tan\\u0131\\u015f\\u0131lan ki\\u015filer,unutulanlardan daha b\\u00fcy\\u00fck hatalar yapabilir \\\" anlam\\u0131nda bir s\\u00f6z.\",\n[\"tan\\u0131\\u015f\\u0131lan\", \"tan\\u0131\\u015fmak\", \"ki\\u015filer\", \"ki\\u015fi\", \"unutulanlardan\", \"unutmak\", \"b\\u00fcy\\u00fck\", \"hatalar\", \"hata\", \"yapabilir\", \"anlam\\u0131nda\", \"anlam\", \"bir\", \"s\\u00f6z\"]],\n [{\n            'v': 181516,\n            'f': \"181516\",\n        },\n\"Aba vakti aba, yaba vakti yaba alan yan\\u0131lmaz\",\n\"# \\\"Her \\u015fey zaman\\u0131nda yap\\u0131l\\u0131rsa ki\\u015fi kazan\\u00e7l\\u0131 olur\\\" anlam\\u0131nda bir s\\u00f6z.\",\n[\"zaman\\u0131nda\", \"yap\\u0131l\\u0131rsa\", \"yapmak\", \"ki\\u015fi\", \"kazan\\u00e7l\\u0131\", \"kazan\\u00e7\", \"olur\", \"anlam\\u0131nda\", \"anlam\", \"bir\", \"s\\u00f6z\"]],\n [{\n            'v': 230355,\n            'f': \"230355\",\n        },\n\"Ada bana, aday\\u0131m sana\",\n\"# Sen bir kimse i\\u00e7in fedakarl\\u0131kta bulunursan o da senin i\\u00e7in fedakarl\\u0131kta bulunur. \",\n[\"sen\", \"bir\", \"kimse\", \"fedakarl\\u0131kta\", \"fedak\\u00e2r\", \"bulunursan\", \"bulunmak\", \"senin\", \"sen\", \"fedakarl\\u0131kta\", \"fedak\\u00e2r\", \"bulunur\", \"bulunmak\"]]],\n        columns: [[\"number\", \"pageid\"], [\"string\", \"title\"], [\"string\", \"anlam\"], [\"string\", \"parcalar\"]],\n        columnOptions: [{\"width\": \"1px\", \"className\": \"index_column\"}],\n        rowsPerPage: 25,\n        helpUrl: \"https://colab.research.google.com/notebooks/data_table.ipynb\",\n        suppressOutputScrolling: true,\n        minimumWidth: undefined,\n      });\n    "
          },
          "metadata": {},
          "execution_count": 17
        },
        {
          "output_type": "stream",
          "name": "stdout",
          "text": [
            "time: 63.9 ms (started: 2022-06-09 14:40:58 +00:00)\n"
          ]
        }
      ]
    },
    {
      "cell_type": "markdown",
      "source": [
        "### Word2Vec"
      ],
      "metadata": {
        "id": "JPEWiILqXvkQ"
      }
    },
    {
      "cell_type": "code",
      "source": [
        "from gensim.models.word2vec import Word2Vec\n",
        "\n",
        "# Create model\n",
        "w2v_model = Word2Vec(vector_size=300, min_count=0, workers=8)\n",
        "# Prepare vocab\n",
        "w2v_model.build_vocab(df['parcalar'].values)\n",
        "# Train\n",
        "w2v_model.train(df['parcalar'].values, total_examples=w2v_model.corpus_count, epochs=30)"
      ],
      "metadata": {
        "id": "cl6hiDmuXxPA",
        "colab": {
          "base_uri": "https://localhost:8080/"
        },
        "outputId": "0e5a0a1d-204d-45fd-b2a8-b3a2f5fb921d"
      },
      "execution_count": null,
      "outputs": [
        {
          "output_type": "execute_result",
          "data": {
            "text/plain": [
              "(1378610, 1509240)"
            ]
          },
          "metadata": {},
          "execution_count": 20
        },
        {
          "output_type": "stream",
          "name": "stdout",
          "text": [
            "time: 7.08 s (started: 2022-06-09 14:41:25 +00:00)\n"
          ]
        }
      ]
    },
    {
      "cell_type": "code",
      "source": [
        "import numpy as np\n",
        "def is_word_in_model(word, model):\n",
        "  \"\"\"\n",
        "  Check on individual words ``word`` that it exists in ``model``.\n",
        "  \"\"\"\n",
        "  assert type(model).__name__ == 'KeyedVectors'\n",
        "  is_in_vocab = word in model.key_to_index.keys()\n",
        "  return is_in_vocab\n",
        "\n",
        "def predict_w2v(query_sentence, dataset, model, topk=5):\n",
        "  query_sentence = parcala(query_sentence)\n",
        "  in_vocab_list, best_index = [], [0]*topk\n",
        "  for w in query_sentence:\n",
        "    # remove unseen words from query sentence\n",
        "    if is_word_in_model(w, model.wv):\n",
        "      in_vocab_list.append(w)\n",
        "  # Retrieve the similarity between two words as a distance\n",
        "  if len(in_vocab_list) > 0:\n",
        "    sim_mat = np.zeros(len(dataset))  # TO DO\n",
        "    for i, data_sentence in enumerate(dataset):\n",
        "      if data_sentence:\n",
        "        sim_sentence = model.wv.n_similarity(in_vocab_list, data_sentence)\n",
        "      else:\n",
        "        sim_sentence = 0\n",
        "      sim_mat[i] = np.array(sim_sentence)\n",
        "    # Take the five highest norm\n",
        "    best_index = np.argsort(sim_mat)[::-1][:topk]\n",
        "  return best_index"
      ],
      "metadata": {
        "id": "eyASzZGUbYxN",
        "colab": {
          "base_uri": "https://localhost:8080/"
        },
        "outputId": "a56725c2-8f39-4b02-d24e-8d40b635e321"
      },
      "execution_count": null,
      "outputs": [
        {
          "output_type": "stream",
          "name": "stdout",
          "text": [
            "time: 43.8 ms (started: 2022-06-09 14:41:58 +00:00)\n"
          ]
        }
      ]
    },
    {
      "cell_type": "code",
      "source": [
        "ORNEK_SORGU = \"zamanında dedenin yaptığı hatalar bugün senin\""
      ],
      "metadata": {
        "id": "PqOQyker6ReU",
        "colab": {
          "base_uri": "https://localhost:8080/"
        },
        "outputId": "d6fd76dd-bba8-400b-fd46-db42ff91e7ca"
      },
      "execution_count": null,
      "outputs": [
        {
          "output_type": "stream",
          "name": "stdout",
          "text": [
            "time: 797 µs (started: 2022-06-09 14:42:01 +00:00)\n"
          ]
        }
      ]
    },
    {
      "cell_type": "code",
      "source": [
        "best_index = predict_w2v(ORNEK_SORGU, df['parcalar'].values, w2v_model)    \n",
        "df.iloc[best_index]"
      ],
      "metadata": {
        "id": "302UkwiN6R31",
        "colab": {
          "base_uri": "https://localhost:8080/",
          "height": 826
        },
        "outputId": "2689ed6a-3451-460a-eee4-fa27a793ee86"
      },
      "execution_count": null,
      "outputs": [
        {
          "output_type": "execute_result",
          "data": {
            "text/plain": [
              "                                                    title  \\\n",
              "pageid                                                      \n",
              "229898                               Sükut ikrardan gelir   \n",
              "230880  Dağ başına harman yapma, savurursun yel için; ...   \n",
              "181631                          Papaz her gün pilav yemez   \n",
              "229875        Şaşkın ördek başını bırakır, kıçından dalar   \n",
              "370054          Hanım kırarsa kaza, halayık kırarsa ceza.   \n",
              "\n",
              "                                                    anlam  \\\n",
              "pageid                                                      \n",
              "229898  # Bir kişiye: Sen şöyle bir iş yaptın mı? (yap...   \n",
              "230880  # Yapacağın iyi bir işi, kimi etkenlerle ziyan...   \n",
              "181631  # Bir işi her gün aynı kişiye yaptırırsan o ön...   \n",
              "229875  # Ne yaptığını bilmeyen kişi, işi tersinden yü...   \n",
              "370054  # Buyurucu durumunda olanların yaptığı yanlışl...   \n",
              "\n",
              "                                                 parcalar  \n",
              "pageid                                                     \n",
              "229898  [bir, kişiye, kişi, sen, şöyle, bir, iş, yaptı...  \n",
              "230880  [yapacağın, iyi, bir, işi, iş, kimi, etkenlerl...  \n",
              "181631  [bir, işi, iş, gün, aynı, kişiye, kişi, yaptır...  \n",
              "229875  [yaptığını, yapmak, bilmeyen, bilmek, kişi, iş...  \n",
              "370054  [buyurucu, buyuru, durumunda, durum, olanların...  "
            ],
            "text/html": [
              "\n",
              "  <div id=\"df-dbeec86c-5e95-47cc-8f45-d67bec569c4f\">\n",
              "    <div class=\"colab-df-container\">\n",
              "      <div>\n",
              "<style scoped>\n",
              "    .dataframe tbody tr th:only-of-type {\n",
              "        vertical-align: middle;\n",
              "    }\n",
              "\n",
              "    .dataframe tbody tr th {\n",
              "        vertical-align: top;\n",
              "    }\n",
              "\n",
              "    .dataframe thead th {\n",
              "        text-align: right;\n",
              "    }\n",
              "</style>\n",
              "<table border=\"1\" class=\"dataframe\">\n",
              "  <thead>\n",
              "    <tr style=\"text-align: right;\">\n",
              "      <th></th>\n",
              "      <th>title</th>\n",
              "      <th>anlam</th>\n",
              "      <th>parcalar</th>\n",
              "    </tr>\n",
              "    <tr>\n",
              "      <th>pageid</th>\n",
              "      <th></th>\n",
              "      <th></th>\n",
              "      <th></th>\n",
              "    </tr>\n",
              "  </thead>\n",
              "  <tbody>\n",
              "    <tr>\n",
              "      <th>229898</th>\n",
              "      <td>Sükut ikrardan gelir</td>\n",
              "      <td># Bir kişiye: Sen şöyle bir iş yaptın mı? (yap...</td>\n",
              "      <td>[bir, kişiye, kişi, sen, şöyle, bir, iş, yaptı...</td>\n",
              "    </tr>\n",
              "    <tr>\n",
              "      <th>230880</th>\n",
              "      <td>Dağ başına harman yapma, savurursun yel için; ...</td>\n",
              "      <td># Yapacağın iyi bir işi, kimi etkenlerle ziyan...</td>\n",
              "      <td>[yapacağın, iyi, bir, işi, iş, kimi, etkenlerl...</td>\n",
              "    </tr>\n",
              "    <tr>\n",
              "      <th>181631</th>\n",
              "      <td>Papaz her gün pilav yemez</td>\n",
              "      <td># Bir işi her gün aynı kişiye yaptırırsan o ön...</td>\n",
              "      <td>[bir, işi, iş, gün, aynı, kişiye, kişi, yaptır...</td>\n",
              "    </tr>\n",
              "    <tr>\n",
              "      <th>229875</th>\n",
              "      <td>Şaşkın ördek başını bırakır, kıçından dalar</td>\n",
              "      <td># Ne yaptığını bilmeyen kişi, işi tersinden yü...</td>\n",
              "      <td>[yaptığını, yapmak, bilmeyen, bilmek, kişi, iş...</td>\n",
              "    </tr>\n",
              "    <tr>\n",
              "      <th>370054</th>\n",
              "      <td>Hanım kırarsa kaza, halayık kırarsa ceza.</td>\n",
              "      <td># Buyurucu durumunda olanların yaptığı yanlışl...</td>\n",
              "      <td>[buyurucu, buyuru, durumunda, durum, olanların...</td>\n",
              "    </tr>\n",
              "  </tbody>\n",
              "</table>\n",
              "</div>\n",
              "      <button class=\"colab-df-convert\" onclick=\"convertToInteractive('df-dbeec86c-5e95-47cc-8f45-d67bec569c4f')\"\n",
              "              title=\"Convert this dataframe to an interactive table.\"\n",
              "              style=\"display:none;\">\n",
              "        \n",
              "  <svg xmlns=\"http://www.w3.org/2000/svg\" height=\"24px\"viewBox=\"0 0 24 24\"\n",
              "       width=\"24px\">\n",
              "    <path d=\"M0 0h24v24H0V0z\" fill=\"none\"/>\n",
              "    <path d=\"M18.56 5.44l.94 2.06.94-2.06 2.06-.94-2.06-.94-.94-2.06-.94 2.06-2.06.94zm-11 1L8.5 8.5l.94-2.06 2.06-.94-2.06-.94L8.5 2.5l-.94 2.06-2.06.94zm10 10l.94 2.06.94-2.06 2.06-.94-2.06-.94-.94-2.06-.94 2.06-2.06.94z\"/><path d=\"M17.41 7.96l-1.37-1.37c-.4-.4-.92-.59-1.43-.59-.52 0-1.04.2-1.43.59L10.3 9.45l-7.72 7.72c-.78.78-.78 2.05 0 2.83L4 21.41c.39.39.9.59 1.41.59.51 0 1.02-.2 1.41-.59l7.78-7.78 2.81-2.81c.8-.78.8-2.07 0-2.86zM5.41 20L4 18.59l7.72-7.72 1.47 1.35L5.41 20z\"/>\n",
              "  </svg>\n",
              "      </button>\n",
              "      \n",
              "  <style>\n",
              "    .colab-df-container {\n",
              "      display:flex;\n",
              "      flex-wrap:wrap;\n",
              "      gap: 12px;\n",
              "    }\n",
              "\n",
              "    .colab-df-convert {\n",
              "      background-color: #E8F0FE;\n",
              "      border: none;\n",
              "      border-radius: 50%;\n",
              "      cursor: pointer;\n",
              "      display: none;\n",
              "      fill: #1967D2;\n",
              "      height: 32px;\n",
              "      padding: 0 0 0 0;\n",
              "      width: 32px;\n",
              "    }\n",
              "\n",
              "    .colab-df-convert:hover {\n",
              "      background-color: #E2EBFA;\n",
              "      box-shadow: 0px 1px 2px rgba(60, 64, 67, 0.3), 0px 1px 3px 1px rgba(60, 64, 67, 0.15);\n",
              "      fill: #174EA6;\n",
              "    }\n",
              "\n",
              "    [theme=dark] .colab-df-convert {\n",
              "      background-color: #3B4455;\n",
              "      fill: #D2E3FC;\n",
              "    }\n",
              "\n",
              "    [theme=dark] .colab-df-convert:hover {\n",
              "      background-color: #434B5C;\n",
              "      box-shadow: 0px 1px 3px 1px rgba(0, 0, 0, 0.15);\n",
              "      filter: drop-shadow(0px 1px 2px rgba(0, 0, 0, 0.3));\n",
              "      fill: #FFFFFF;\n",
              "    }\n",
              "  </style>\n",
              "\n",
              "      <script>\n",
              "        const buttonEl =\n",
              "          document.querySelector('#df-dbeec86c-5e95-47cc-8f45-d67bec569c4f button.colab-df-convert');\n",
              "        buttonEl.style.display =\n",
              "          google.colab.kernel.accessAllowed ? 'block' : 'none';\n",
              "\n",
              "        async function convertToInteractive(key) {\n",
              "          const element = document.querySelector('#df-dbeec86c-5e95-47cc-8f45-d67bec569c4f');\n",
              "          const dataTable =\n",
              "            await google.colab.kernel.invokeFunction('convertToInteractive',\n",
              "                                                     [key], {});\n",
              "          if (!dataTable) return;\n",
              "\n",
              "          const docLinkHtml = 'Like what you see? Visit the ' +\n",
              "            '<a target=\"_blank\" href=https://colab.research.google.com/notebooks/data_table.ipynb>data table notebook</a>'\n",
              "            + ' to learn more about interactive tables.';\n",
              "          element.innerHTML = '';\n",
              "          dataTable['output_type'] = 'display_data';\n",
              "          await google.colab.output.renderOutput(dataTable, element);\n",
              "          const docLink = document.createElement('div');\n",
              "          docLink.innerHTML = docLinkHtml;\n",
              "          element.appendChild(docLink);\n",
              "        }\n",
              "      </script>\n",
              "    </div>\n",
              "  </div>\n",
              "  "
            ],
            "application/vnd.google.colaboratory.module+javascript": "\n      import \"https://ssl.gstatic.com/colaboratory/data_table/f872b2c2305463fd/data_table.js\";\n\n      window.createDataTable({\n        data: [[{\n            'v': 229898,\n            'f': \"229898\",\n        },\n\"S\\u00fckut ikrardan gelir\",\n\"# Bir ki\\u015fiye: Sen \\u015f\\u00f6yle bir i\\u015f yapt\\u0131n m\\u0131? (yapm\\u0131\\u015fs\\u0131n) diye soruldu\\u011funda kar\\u015f\\u0131l\\u0131k vermiyorsaevet diyor say\\u0131l\\u0131r. \",\n[\"bir\", \"ki\\u015fiye\", \"ki\\u015fi\", \"sen\", \"\\u015f\\u00f6yle\", \"bir\", \"i\\u015f\", \"yapt\\u0131n\", \"yapmak\", \"yapm\\u0131\\u015fs\\u0131n\", \"yapmak\", \"soruldu\\u011funda\", \"sormak\", \"kar\\u015f\\u0131l\\u0131k\", \"vermiyorsaevet\", \"diyor\", \"demek\", \"say\\u0131l\\u0131r\"]],\n [{\n            'v': 230880,\n            'f': \"230880\",\n        },\n\"Da\\u011f ba\\u015f\\u0131na harman yapma, savurursun yel i\\u00e7in; sel \\u00f6n\\u00fcne de\\u011firmen yapma, \\u00f6\\u011f\\u00fct\\u00fcrs\\u00fcn sel i\\u00e7in\",\n\"# Yapaca\\u011f\\u0131n iyi bir i\\u015fi, kimi etkenlerle ziyan olacak kadar, sonunu hesaplamadan yapma. \",\n[\"yapaca\\u011f\\u0131n\", \"iyi\", \"bir\", \"i\\u015fi\", \"i\\u015f\", \"kimi\", \"etkenlerle\", \"etken\", \"ziyan\", \"olacak\", \"kadar\", \"sonunu\", \"son\", \"hesaplamadan\", \"hesaplamak\", \"yapma\", \"yapmak\"]],\n [{\n            'v': 181631,\n            'f': \"181631\",\n        },\n\"Papaz her g\\u00fcn pilav yemez\",\n\"# Bir i\\u015fi her g\\u00fcn ayn\\u0131 ki\\u015fiye yapt\\u0131r\\u0131rsan o \\u00f6nce sessiz olur sonra katlanamaz.\",\n[\"bir\", \"i\\u015fi\", \"i\\u015f\", \"g\\u00fcn\", \"ayn\\u0131\", \"ki\\u015fiye\", \"ki\\u015fi\", \"yapt\\u0131r\\u0131rsan\", \"yapmak\", \"\\u00f6nce\", \"sessiz\", \"olur\", \"sonra\", \"katlanamaz\", \"katlanmak\"]],\n [{\n            'v': 229875,\n            'f': \"229875\",\n        },\n\"\\u015ea\\u015fk\\u0131n \\u00f6rdek ba\\u015f\\u0131n\\u0131 b\\u0131rak\\u0131r, k\\u0131\\u00e7\\u0131ndan dalar\",\n\"# Ne yapt\\u0131\\u011f\\u0131n\\u0131 bilmeyen ki\\u015fi, i\\u015fi tersinden y\\u00fcr\\u00fctmeye kalkar. \",\n[\"yapt\\u0131\\u011f\\u0131n\\u0131\", \"yapmak\", \"bilmeyen\", \"bilmek\", \"ki\\u015fi\", \"i\\u015fi\", \"i\\u015f\", \"tersinden\", \"ters\", \"y\\u00fcr\\u00fctmeye\", \"y\\u00fcr\\u00fctmek\", \"kalkar\", \"kalkmak\"]],\n [{\n            'v': 370054,\n            'f': \"370054\",\n        },\n\"Han\\u0131m k\\u0131rarsa kaza, halay\\u0131k k\\u0131rarsa ceza.\",\n\"# Buyurucu durumunda olanlar\\u0131n yapt\\u0131\\u011f\\u0131 yanl\\u0131\\u015fl\\u0131k ho\\u015f g\\u00f6r\\u00fcl\\u00fcr; buyruk alt\\u0131ndakilerin yapt\\u0131\\u011f\\u0131 yanl\\u0131\\u015fl\\u0131k su\\u00e7 say\\u0131l\\u0131r. \",\n[\"buyurucu\", \"buyuru\", \"durumunda\", \"durum\", \"olanlar\\u0131n\", \"yapt\\u0131\\u011f\\u0131\", \"yapmak\", \"yanl\\u0131\\u015fl\\u0131k\", \"yanl\\u0131\\u015f\", \"ho\\u015f\", \"g\\u00f6r\\u00fcl\\u00fcr\", \"buyruk\", \"alt\\u0131ndakilerin\", \"alt\\u0131n\", \"yapt\\u0131\\u011f\\u0131\", \"yapmak\", \"yanl\\u0131\\u015fl\\u0131k\", \"yanl\\u0131\\u015f\", \"su\\u00e7\", \"say\\u0131l\\u0131r\"]]],\n        columns: [[\"number\", \"pageid\"], [\"string\", \"title\"], [\"string\", \"anlam\"], [\"string\", \"parcalar\"]],\n        columnOptions: [{\"width\": \"1px\", \"className\": \"index_column\"}],\n        rowsPerPage: 25,\n        helpUrl: \"https://colab.research.google.com/notebooks/data_table.ipynb\",\n        suppressOutputScrolling: true,\n        minimumWidth: undefined,\n      });\n    "
          },
          "metadata": {},
          "execution_count": 27
        },
        {
          "output_type": "stream",
          "name": "stdout",
          "text": [
            "time: 683 ms (started: 2022-06-09 14:42:02 +00:00)\n"
          ]
        }
      ]
    },
    {
      "cell_type": "markdown",
      "source": [
        "### Transformer: BERT"
      ],
      "metadata": {
        "id": "K6UACPTYvkan"
      }
    },
    {
      "cell_type": "code",
      "source": [
        "!pip install sentence_transformers"
      ],
      "metadata": {
        "id": "kC3Ku8b89EwZ",
        "colab": {
          "base_uri": "https://localhost:8080/"
        },
        "outputId": "b1e17947-0a19-4e37-d6fa-1e3c0d3251f0"
      },
      "execution_count": 20,
      "outputs": [
        {
          "output_type": "stream",
          "name": "stdout",
          "text": [
            "Looking in indexes: https://pypi.org/simple, https://us-python.pkg.dev/colab-wheels/public/simple/\n",
            "Collecting sentence_transformers\n",
            "  Downloading sentence-transformers-2.2.0.tar.gz (79 kB)\n",
            "\u001b[K     |████████████████████████████████| 79 kB 7.7 MB/s \n",
            "\u001b[?25hCollecting transformers<5.0.0,>=4.6.0\n",
            "  Downloading transformers-4.20.1-py3-none-any.whl (4.4 MB)\n",
            "\u001b[K     |████████████████████████████████| 4.4 MB 41.5 MB/s \n",
            "\u001b[?25hRequirement already satisfied: tqdm in /usr/local/lib/python3.7/dist-packages (from sentence_transformers) (4.64.0)\n",
            "Requirement already satisfied: torch>=1.6.0 in /usr/local/lib/python3.7/dist-packages (from sentence_transformers) (1.11.0+cu113)\n",
            "Requirement already satisfied: torchvision in /usr/local/lib/python3.7/dist-packages (from sentence_transformers) (0.12.0+cu113)\n",
            "Requirement already satisfied: numpy in /usr/local/lib/python3.7/dist-packages (from sentence_transformers) (1.21.6)\n",
            "Requirement already satisfied: scikit-learn in /usr/local/lib/python3.7/dist-packages (from sentence_transformers) (1.0.2)\n",
            "Requirement already satisfied: scipy in /usr/local/lib/python3.7/dist-packages (from sentence_transformers) (1.4.1)\n",
            "Requirement already satisfied: nltk in /usr/local/lib/python3.7/dist-packages (from sentence_transformers) (3.7)\n",
            "Collecting sentencepiece\n",
            "  Downloading sentencepiece-0.1.96-cp37-cp37m-manylinux_2_17_x86_64.manylinux2014_x86_64.whl (1.2 MB)\n",
            "\u001b[K     |████████████████████████████████| 1.2 MB 50.9 MB/s \n",
            "\u001b[?25hCollecting huggingface-hub\n",
            "  Downloading huggingface_hub-0.8.1-py3-none-any.whl (101 kB)\n",
            "\u001b[K     |████████████████████████████████| 101 kB 12.8 MB/s \n",
            "\u001b[?25hRequirement already satisfied: typing-extensions in /usr/local/lib/python3.7/dist-packages (from torch>=1.6.0->sentence_transformers) (4.1.1)\n",
            "Requirement already satisfied: filelock in /usr/local/lib/python3.7/dist-packages (from transformers<5.0.0,>=4.6.0->sentence_transformers) (3.7.1)\n",
            "Requirement already satisfied: requests in /usr/local/lib/python3.7/dist-packages (from transformers<5.0.0,>=4.6.0->sentence_transformers) (2.23.0)\n",
            "Collecting tokenizers!=0.11.3,<0.13,>=0.11.1\n",
            "  Downloading tokenizers-0.12.1-cp37-cp37m-manylinux_2_12_x86_64.manylinux2010_x86_64.whl (6.6 MB)\n",
            "\u001b[K     |████████████████████████████████| 6.6 MB 61.1 MB/s \n",
            "\u001b[?25hRequirement already satisfied: importlib-metadata in /usr/local/lib/python3.7/dist-packages (from transformers<5.0.0,>=4.6.0->sentence_transformers) (4.11.4)\n",
            "Requirement already satisfied: packaging>=20.0 in /usr/local/lib/python3.7/dist-packages (from transformers<5.0.0,>=4.6.0->sentence_transformers) (21.3)\n",
            "Collecting pyyaml>=5.1\n",
            "  Downloading PyYAML-6.0-cp37-cp37m-manylinux_2_5_x86_64.manylinux1_x86_64.manylinux_2_12_x86_64.manylinux2010_x86_64.whl (596 kB)\n",
            "\u001b[K     |████████████████████████████████| 596 kB 49.1 MB/s \n",
            "\u001b[?25hRequirement already satisfied: regex!=2019.12.17 in /usr/local/lib/python3.7/dist-packages (from transformers<5.0.0,>=4.6.0->sentence_transformers) (2022.6.2)\n",
            "Requirement already satisfied: pyparsing!=3.0.5,>=2.0.2 in /usr/local/lib/python3.7/dist-packages (from packaging>=20.0->transformers<5.0.0,>=4.6.0->sentence_transformers) (3.0.9)\n",
            "Requirement already satisfied: zipp>=0.5 in /usr/local/lib/python3.7/dist-packages (from importlib-metadata->transformers<5.0.0,>=4.6.0->sentence_transformers) (3.8.0)\n",
            "Requirement already satisfied: joblib in /usr/local/lib/python3.7/dist-packages (from nltk->sentence_transformers) (1.1.0)\n",
            "Requirement already satisfied: click in /usr/local/lib/python3.7/dist-packages (from nltk->sentence_transformers) (7.1.2)\n",
            "Requirement already satisfied: certifi>=2017.4.17 in /usr/local/lib/python3.7/dist-packages (from requests->transformers<5.0.0,>=4.6.0->sentence_transformers) (2022.6.15)\n",
            "Requirement already satisfied: urllib3!=1.25.0,!=1.25.1,<1.26,>=1.21.1 in /usr/local/lib/python3.7/dist-packages (from requests->transformers<5.0.0,>=4.6.0->sentence_transformers) (1.24.3)\n",
            "Requirement already satisfied: chardet<4,>=3.0.2 in /usr/local/lib/python3.7/dist-packages (from requests->transformers<5.0.0,>=4.6.0->sentence_transformers) (3.0.4)\n",
            "Requirement already satisfied: idna<3,>=2.5 in /usr/local/lib/python3.7/dist-packages (from requests->transformers<5.0.0,>=4.6.0->sentence_transformers) (2.10)\n",
            "Requirement already satisfied: threadpoolctl>=2.0.0 in /usr/local/lib/python3.7/dist-packages (from scikit-learn->sentence_transformers) (3.1.0)\n",
            "Requirement already satisfied: pillow!=8.3.*,>=5.3.0 in /usr/local/lib/python3.7/dist-packages (from torchvision->sentence_transformers) (7.1.2)\n",
            "Building wheels for collected packages: sentence-transformers\n",
            "  Building wheel for sentence-transformers (setup.py) ... \u001b[?25l\u001b[?25hdone\n",
            "  Created wheel for sentence-transformers: filename=sentence_transformers-2.2.0-py3-none-any.whl size=120747 sha256=dda7a9f2f5cfcef2169f9873b31600cb47eb2657ed21a1545cf7ff9b25fc01b5\n",
            "  Stored in directory: /root/.cache/pip/wheels/83/c0/df/b6873ab7aac3f2465aa9144b6b4c41c4391cfecc027c8b07e7\n",
            "Successfully built sentence-transformers\n",
            "Installing collected packages: pyyaml, tokenizers, huggingface-hub, transformers, sentencepiece, sentence-transformers\n",
            "  Attempting uninstall: pyyaml\n",
            "    Found existing installation: PyYAML 3.13\n",
            "    Uninstalling PyYAML-3.13:\n",
            "      Successfully uninstalled PyYAML-3.13\n",
            "Successfully installed huggingface-hub-0.8.1 pyyaml-6.0 sentence-transformers-2.2.0 sentencepiece-0.1.96 tokenizers-0.12.1 transformers-4.20.1\n",
            "time: 12.8 s (started: 2022-06-23 12:35:30 +00:00)\n"
          ]
        }
      ]
    },
    {
      "cell_type": "code",
      "source": [
        "# https://www.sbert.net/docs/quickstart.html\n",
        "from sentence_transformers import SentenceTransformer\n",
        "model = SentenceTransformer('dbmdz/bert-base-turkish-uncased')"
      ],
      "metadata": {
        "colab": {
          "base_uri": "https://localhost:8080/",
          "height": 368,
          "referenced_widgets": [
            "b5f12c90bebe411aa43bb61f7b284961",
            "9dbb31976a4743eda666c3dcab62c6ab",
            "1cec031f530149369f51e3e5b4015d98",
            "de665586714445768768faa011774d93",
            "8029ec1cb2dc49e285af056199cf77a3",
            "dd75420e3caa4b00a9bfa122b38a339e",
            "13274e4acccc4193ab48f16f8ccb7751",
            "3bbfe2630ef74990aec789664e816543",
            "7c6ec066eea64d968f489b416f09b08e",
            "06ce0a63904f495aa123e047a517c955",
            "346366d709874b5fa4ac7acd62a7b344",
            "71969b4795774d9987e68c47df172d33",
            "152a57fb30f04e4890ae90b5a25ad39c",
            "b8c0d8a03f8c46bf8eb597c1e147c7fd",
            "e88e4203057e4eb68025d40272778ac5",
            "fa4704d96bce470486387a23cf2134cb",
            "ccd5fefdba064e0a97f94f4729e9414f",
            "84c1bc5f8ba24000a943afc6ed67dd85",
            "dbcb6e3ce648492babb16335e2940b36",
            "c30162830a764199aeed97020a2c47a5",
            "4a897ac4884b43ea9d7ab1281fbadbe6",
            "bc7da4f4214f451c98f8530bc67ef0a7",
            "a888c1c7fa3246859e4a7af027646fdd",
            "1044077225c241a5bcbaa008bc096fd4",
            "c15ed1cb56274058a6738cad01c0cfcb",
            "ca8d589d08b74090ad4a3598c7088f85",
            "ee1023853948431fac65971c79b88962",
            "ce1713072b6b44c8a0743233b4f05d13",
            "2ad62f8b239d4ecba300d71cee91dda9",
            "8dbd05619c43447fa3a0982af1c48210",
            "e5409c6e997a4fe19ba2d8621d916562",
            "16e5e9a85f49422ead37c97fe14a03c8",
            "c6559e92e0b94cd4971caa1d038f1619",
            "822985b05d7f481d991235050789fa7e",
            "0cc979e062854ee79d3740584a3ac891",
            "ce18faf4e0d94f598d91d1f98b3cd4d8",
            "89567a0a77414b02af3be16559be8222",
            "98b923ca11b34351bdb641c74cf34ee9",
            "847044a9cb5d45a186786c44e747c07f",
            "1921aa9df41342a3b9c6c3358da2c1d7",
            "8074de299cde491281eb7b7e8f34877c",
            "187b92b26616441fa0d17fc1fc8ace45",
            "ff8a82b78db7494a9aa68a9644ae4c26",
            "565b7eadda03475bbd59e896a56b499d",
            "a888a2e587514ef58bf64857e2742074",
            "9387d8182b6a4a85bc82dbbef6677f7f",
            "eb77ea780f98405a9b8838739afe4039",
            "49e36306f440499aae652c590d025bbc",
            "b0cfd271edda43e088dc038a004a2d2c",
            "476162263ad24982ad6a602d795d2145",
            "88f8ea38471b40cc8fc50382228a7e6c",
            "d3cba7ae2a384f7a9296395a72cdd294",
            "234366bda897443787bb6164055cb1e1",
            "8dba4703ab3f414096ef26b63b25d63d",
            "f42ac96cf4fa406b9d686ba488f423e6",
            "f73330e0242b43cf9f9c75d2e33faa05",
            "3ce86d3df2cc4adaaab9cee192b70305",
            "5552abdea79046f99df4aba9de984b2f",
            "36e45e6678d14af1b67c0b71d7cac198",
            "8cc92c76bfde44198ab354c9154608f9",
            "9ed91f2f27564e72a507804e81055c9f",
            "bb56b5862f8e4647b441f4547b93df08",
            "d4cf755f860e44d1be2084c7787153fc",
            "7eddb23c1ef043ea945e801287ece2b7",
            "80c6379766574b468b4997cd1c3cfc04",
            "e27622b37eba43cabc8ead5af3772d2a"
          ]
        },
        "id": "zh1h98yTDV--",
        "outputId": "14309580-cf0c-4a82-ec0a-caf2e29a8d4d"
      },
      "execution_count": 21,
      "outputs": [
        {
          "output_type": "stream",
          "name": "stderr",
          "text": [
            "/usr/local/lib/python3.7/dist-packages/huggingface_hub/snapshot_download.py:11: FutureWarning: snapshot_download.py has been made private and will no longer be available from version 0.11. Please use `from huggingface_hub import snapshot_download` to import the only public function in this module. Other members of the file may be changed without a deprecation notice.\n",
            "  FutureWarning,\n",
            "/usr/local/lib/python3.7/dist-packages/huggingface_hub/file_download.py:563: FutureWarning: `cached_download` is the legacy way to download files from the HF hub, please consider upgrading to `hf_hub_download`\n",
            "  FutureWarning,\n"
          ]
        },
        {
          "output_type": "display_data",
          "data": {
            "text/plain": [
              "Downloading:   0%|          | 0.00/391 [00:00<?, ?B/s]"
            ],
            "application/vnd.jupyter.widget-view+json": {
              "version_major": 2,
              "version_minor": 0,
              "model_id": "b5f12c90bebe411aa43bb61f7b284961"
            }
          },
          "metadata": {}
        },
        {
          "output_type": "display_data",
          "data": {
            "text/plain": [
              "Downloading:   0%|          | 0.00/2.91k [00:00<?, ?B/s]"
            ],
            "application/vnd.jupyter.widget-view+json": {
              "version_major": 2,
              "version_minor": 0,
              "model_id": "71969b4795774d9987e68c47df172d33"
            }
          },
          "metadata": {}
        },
        {
          "output_type": "display_data",
          "data": {
            "text/plain": [
              "Downloading:   0%|          | 0.00/385 [00:00<?, ?B/s]"
            ],
            "application/vnd.jupyter.widget-view+json": {
              "version_major": 2,
              "version_minor": 0,
              "model_id": "a888c1c7fa3246859e4a7af027646fdd"
            }
          },
          "metadata": {}
        },
        {
          "output_type": "display_data",
          "data": {
            "text/plain": [
              "Downloading:   0%|          | 0.00/445M [00:00<?, ?B/s]"
            ],
            "application/vnd.jupyter.widget-view+json": {
              "version_major": 2,
              "version_minor": 0,
              "model_id": "822985b05d7f481d991235050789fa7e"
            }
          },
          "metadata": {}
        },
        {
          "output_type": "display_data",
          "data": {
            "text/plain": [
              "Downloading:   0%|          | 0.00/59.0 [00:00<?, ?B/s]"
            ],
            "application/vnd.jupyter.widget-view+json": {
              "version_major": 2,
              "version_minor": 0,
              "model_id": "a888a2e587514ef58bf64857e2742074"
            }
          },
          "metadata": {}
        },
        {
          "output_type": "display_data",
          "data": {
            "text/plain": [
              "Downloading:   0%|          | 0.00/263k [00:00<?, ?B/s]"
            ],
            "application/vnd.jupyter.widget-view+json": {
              "version_major": 2,
              "version_minor": 0,
              "model_id": "f73330e0242b43cf9f9c75d2e33faa05"
            }
          },
          "metadata": {}
        },
        {
          "output_type": "stream",
          "name": "stderr",
          "text": [
            "Some weights of the model checkpoint at /root/.cache/torch/sentence_transformers/dbmdz_bert-base-turkish-uncased were not used when initializing BertModel: ['cls.seq_relationship.weight', 'cls.predictions.transform.dense.weight', 'cls.predictions.transform.LayerNorm.weight', 'cls.seq_relationship.bias', 'cls.predictions.decoder.weight', 'cls.predictions.transform.LayerNorm.bias', 'cls.predictions.transform.dense.bias', 'cls.predictions.bias', 'cls.predictions.decoder.bias']\n",
            "- This IS expected if you are initializing BertModel from the checkpoint of a model trained on another task or with another architecture (e.g. initializing a BertForSequenceClassification model from a BertForPreTraining model).\n",
            "- This IS NOT expected if you are initializing BertModel from the checkpoint of a model that you expect to be exactly identical (initializing a BertForSequenceClassification model from a BertForSequenceClassification model).\n"
          ]
        },
        {
          "output_type": "stream",
          "name": "stdout",
          "text": [
            "time: 35.7 s (started: 2022-06-23 12:35:43 +00:00)\n"
          ]
        }
      ]
    },
    {
      "cell_type": "code",
      "source": [
        "parcalar_string = df['parcalar'].apply(lambda parcalar: ' '.join(parcalar)).values\n",
        "corpus_embs = model.encode(parcalar_string)"
      ],
      "metadata": {
        "id": "n6eHgQfYD0lq",
        "colab": {
          "base_uri": "https://localhost:8080/"
        },
        "outputId": "d1b5b080-365c-465d-b833-781307e4219d"
      },
      "execution_count": 49,
      "outputs": [
        {
          "output_type": "stream",
          "name": "stdout",
          "text": [
            "time: 5min 19s (started: 2022-06-23 13:00:10 +00:00)\n"
          ]
        }
      ]
    },
    {
      "cell_type": "code",
      "source": [
        "# https://www.sbert.net/examples/applications/semantic-search/README.html\n",
        "from sentence_transformers import util\n",
        "\n",
        "def eniyileri_getir(sorgu, ilk_n=5):\n",
        "  query_emb = model.encode(sorgu)\n",
        "  cos_benz = util.cos_sim(query_emb, corpus_embs)[0]\n",
        "  return cos_benz.topk(ilk_n).indices"
      ],
      "metadata": {
        "colab": {
          "base_uri": "https://localhost:8080/"
        },
        "id": "DV_5Uky9FF-y",
        "outputId": "da87434a-029a-43e5-b105-f499b5c1cd0c"
      },
      "execution_count": 50,
      "outputs": [
        {
          "output_type": "stream",
          "name": "stdout",
          "text": [
            "time: 3.67 ms (started: 2022-06-23 13:05:30 +00:00)\n"
          ]
        }
      ]
    },
    {
      "cell_type": "code",
      "source": [
        "ORNEK_SORGU = \"gün gece arkanda bırakmak unutmak sıkıntı\"\n",
        "df.iloc[eniyileri_getir(ORNEK_SORGU)]"
      ],
      "metadata": {
        "colab": {
          "base_uri": "https://localhost:8080/",
          "height": 1256
        },
        "id": "ifQpSC9QIMeg",
        "outputId": "2fffff4b-ccf4-4647-a64a-72e0281e6b2c"
      },
      "execution_count": 52,
      "outputs": [
        {
          "output_type": "execute_result",
          "data": {
            "text/plain": [
              "                                                    title  \\\n",
              "pageid                                                      \n",
              "229851                          Çivi çıkar ama yeri kalır   \n",
              "230599  Ayda bir gel dostuna, kalksın ayak üstüne; gün...   \n",
              "231476                            Kara gün kararıp kalmaz   \n",
              "230881      Dağ başına kış gelir, insanın başına iş gelir   \n",
              "229910            Sık gidersen dostuna, yatar arka üstüne   \n",
              "\n",
              "                                                 wikitext  \\\n",
              "pageid                                                      \n",
              "229851  == Türkçe ==\\n\\n===Atasözü===\\n{{tr-atasözü}}\\...   \n",
              "230599  ==Türkçe==\\n===Atasözü===\\n{{başlık başı|tr|at...   \n",
              "231476  ==Türkçe==\\n===Atasözü===\\n{{başlık başı|tr|at...   \n",
              "230881  ==Türkçe==\\n===Atasözü===\\n{{başlık başı|tr|at...   \n",
              "229910  ==Türkçe==\\n===Atasözü===\\n{{başlık başı|tr|at...   \n",
              "\n",
              "                                                    anlam muhtemel aynılar  \\\n",
              "pageid                                                                       \n",
              "229851  # Başkasına yaptığın bir fenalığı kaldırıp gid...                    \n",
              "230599  # Ne denli yakın dostun olursa olsun, ona her ...                    \n",
              "231476  # İnsanın sıkıntılı zamanı sürüp gitmez, arkas...                    \n",
              "230881  # Dağ başında kışın nasıl fırtına eksik olmazs...                    \n",
              "229910  # Ne denli candan olursa olsun, dostuna çok sı...                    \n",
              "\n",
              "                                                 parcalar  \n",
              "pageid                                                     \n",
              "229851  [başkasına, başka, yaptığın, yapmak, bir, fena...  \n",
              "230599  [denli, yakın, dostun, dost, olursa, olur, ols...  \n",
              "231476  [insanın, insan, sıkıntılı, sıkıntı, zamanı, z...  \n",
              "230881  [dağ, başında, baş, kışın, kış, fırtına, eksik...  \n",
              "229910  [denli, candan, olursa, olur, olsun, olmak, do...  "
            ],
            "text/html": [
              "\n",
              "  <div id=\"df-8dc3de93-bca2-445d-8a60-821808a375bc\">\n",
              "    <div class=\"colab-df-container\">\n",
              "      <div>\n",
              "<style scoped>\n",
              "    .dataframe tbody tr th:only-of-type {\n",
              "        vertical-align: middle;\n",
              "    }\n",
              "\n",
              "    .dataframe tbody tr th {\n",
              "        vertical-align: top;\n",
              "    }\n",
              "\n",
              "    .dataframe thead th {\n",
              "        text-align: right;\n",
              "    }\n",
              "</style>\n",
              "<table border=\"1\" class=\"dataframe\">\n",
              "  <thead>\n",
              "    <tr style=\"text-align: right;\">\n",
              "      <th></th>\n",
              "      <th>title</th>\n",
              "      <th>wikitext</th>\n",
              "      <th>anlam</th>\n",
              "      <th>muhtemel aynılar</th>\n",
              "      <th>parcalar</th>\n",
              "    </tr>\n",
              "    <tr>\n",
              "      <th>pageid</th>\n",
              "      <th></th>\n",
              "      <th></th>\n",
              "      <th></th>\n",
              "      <th></th>\n",
              "      <th></th>\n",
              "    </tr>\n",
              "  </thead>\n",
              "  <tbody>\n",
              "    <tr>\n",
              "      <th>229851</th>\n",
              "      <td>Çivi çıkar ama yeri kalır</td>\n",
              "      <td>== Türkçe ==\\n\\n===Atasözü===\\n{{tr-atasözü}}\\...</td>\n",
              "      <td># Başkasına yaptığın bir fenalığı kaldırıp gid...</td>\n",
              "      <td></td>\n",
              "      <td>[başkasına, başka, yaptığın, yapmak, bir, fena...</td>\n",
              "    </tr>\n",
              "    <tr>\n",
              "      <th>230599</th>\n",
              "      <td>Ayda bir gel dostuna, kalksın ayak üstüne; gün...</td>\n",
              "      <td>==Türkçe==\\n===Atasözü===\\n{{başlık başı|tr|at...</td>\n",
              "      <td># Ne denli yakın dostun olursa olsun, ona her ...</td>\n",
              "      <td></td>\n",
              "      <td>[denli, yakın, dostun, dost, olursa, olur, ols...</td>\n",
              "    </tr>\n",
              "    <tr>\n",
              "      <th>231476</th>\n",
              "      <td>Kara gün kararıp kalmaz</td>\n",
              "      <td>==Türkçe==\\n===Atasözü===\\n{{başlık başı|tr|at...</td>\n",
              "      <td># İnsanın sıkıntılı zamanı sürüp gitmez, arkas...</td>\n",
              "      <td></td>\n",
              "      <td>[insanın, insan, sıkıntılı, sıkıntı, zamanı, z...</td>\n",
              "    </tr>\n",
              "    <tr>\n",
              "      <th>230881</th>\n",
              "      <td>Dağ başına kış gelir, insanın başına iş gelir</td>\n",
              "      <td>==Türkçe==\\n===Atasözü===\\n{{başlık başı|tr|at...</td>\n",
              "      <td># Dağ başında kışın nasıl fırtına eksik olmazs...</td>\n",
              "      <td></td>\n",
              "      <td>[dağ, başında, baş, kışın, kış, fırtına, eksik...</td>\n",
              "    </tr>\n",
              "    <tr>\n",
              "      <th>229910</th>\n",
              "      <td>Sık gidersen dostuna, yatar arka üstüne</td>\n",
              "      <td>==Türkçe==\\n===Atasözü===\\n{{başlık başı|tr|at...</td>\n",
              "      <td># Ne denli candan olursa olsun, dostuna çok sı...</td>\n",
              "      <td></td>\n",
              "      <td>[denli, candan, olursa, olur, olsun, olmak, do...</td>\n",
              "    </tr>\n",
              "  </tbody>\n",
              "</table>\n",
              "</div>\n",
              "      <button class=\"colab-df-convert\" onclick=\"convertToInteractive('df-8dc3de93-bca2-445d-8a60-821808a375bc')\"\n",
              "              title=\"Convert this dataframe to an interactive table.\"\n",
              "              style=\"display:none;\">\n",
              "        \n",
              "  <svg xmlns=\"http://www.w3.org/2000/svg\" height=\"24px\"viewBox=\"0 0 24 24\"\n",
              "       width=\"24px\">\n",
              "    <path d=\"M0 0h24v24H0V0z\" fill=\"none\"/>\n",
              "    <path d=\"M18.56 5.44l.94 2.06.94-2.06 2.06-.94-2.06-.94-.94-2.06-.94 2.06-2.06.94zm-11 1L8.5 8.5l.94-2.06 2.06-.94-2.06-.94L8.5 2.5l-.94 2.06-2.06.94zm10 10l.94 2.06.94-2.06 2.06-.94-2.06-.94-.94-2.06-.94 2.06-2.06.94z\"/><path d=\"M17.41 7.96l-1.37-1.37c-.4-.4-.92-.59-1.43-.59-.52 0-1.04.2-1.43.59L10.3 9.45l-7.72 7.72c-.78.78-.78 2.05 0 2.83L4 21.41c.39.39.9.59 1.41.59.51 0 1.02-.2 1.41-.59l7.78-7.78 2.81-2.81c.8-.78.8-2.07 0-2.86zM5.41 20L4 18.59l7.72-7.72 1.47 1.35L5.41 20z\"/>\n",
              "  </svg>\n",
              "      </button>\n",
              "      \n",
              "  <style>\n",
              "    .colab-df-container {\n",
              "      display:flex;\n",
              "      flex-wrap:wrap;\n",
              "      gap: 12px;\n",
              "    }\n",
              "\n",
              "    .colab-df-convert {\n",
              "      background-color: #E8F0FE;\n",
              "      border: none;\n",
              "      border-radius: 50%;\n",
              "      cursor: pointer;\n",
              "      display: none;\n",
              "      fill: #1967D2;\n",
              "      height: 32px;\n",
              "      padding: 0 0 0 0;\n",
              "      width: 32px;\n",
              "    }\n",
              "\n",
              "    .colab-df-convert:hover {\n",
              "      background-color: #E2EBFA;\n",
              "      box-shadow: 0px 1px 2px rgba(60, 64, 67, 0.3), 0px 1px 3px 1px rgba(60, 64, 67, 0.15);\n",
              "      fill: #174EA6;\n",
              "    }\n",
              "\n",
              "    [theme=dark] .colab-df-convert {\n",
              "      background-color: #3B4455;\n",
              "      fill: #D2E3FC;\n",
              "    }\n",
              "\n",
              "    [theme=dark] .colab-df-convert:hover {\n",
              "      background-color: #434B5C;\n",
              "      box-shadow: 0px 1px 3px 1px rgba(0, 0, 0, 0.15);\n",
              "      filter: drop-shadow(0px 1px 2px rgba(0, 0, 0, 0.3));\n",
              "      fill: #FFFFFF;\n",
              "    }\n",
              "  </style>\n",
              "\n",
              "      <script>\n",
              "        const buttonEl =\n",
              "          document.querySelector('#df-8dc3de93-bca2-445d-8a60-821808a375bc button.colab-df-convert');\n",
              "        buttonEl.style.display =\n",
              "          google.colab.kernel.accessAllowed ? 'block' : 'none';\n",
              "\n",
              "        async function convertToInteractive(key) {\n",
              "          const element = document.querySelector('#df-8dc3de93-bca2-445d-8a60-821808a375bc');\n",
              "          const dataTable =\n",
              "            await google.colab.kernel.invokeFunction('convertToInteractive',\n",
              "                                                     [key], {});\n",
              "          if (!dataTable) return;\n",
              "\n",
              "          const docLinkHtml = 'Like what you see? Visit the ' +\n",
              "            '<a target=\"_blank\" href=https://colab.research.google.com/notebooks/data_table.ipynb>data table notebook</a>'\n",
              "            + ' to learn more about interactive tables.';\n",
              "          element.innerHTML = '';\n",
              "          dataTable['output_type'] = 'display_data';\n",
              "          await google.colab.output.renderOutput(dataTable, element);\n",
              "          const docLink = document.createElement('div');\n",
              "          docLink.innerHTML = docLinkHtml;\n",
              "          element.appendChild(docLink);\n",
              "        }\n",
              "      </script>\n",
              "    </div>\n",
              "  </div>\n",
              "  "
            ],
            "application/vnd.google.colaboratory.module+javascript": "\n      import \"https://ssl.gstatic.com/colaboratory/data_table/f872b2c2305463fd/data_table.js\";\n\n      window.createDataTable({\n        data: [[{\n            'v': 229851,\n            'f': \"229851\",\n        },\n\"\\u00c7ivi \\u00e7\\u0131kar ama yeri kal\\u0131r\",\n\"== T\\u00fcrk\\u00e7e ==\\n\\n===Atas\\u00f6z\\u00fc===\\n{{tr-atas\\u00f6z\\u00fc}}\\n# Ba\\u015fkas\\u0131na yapt\\u0131\\u011f\\u0131n bir [[fenal\\u0131k|fenal\\u0131\\u011f\\u0131]] kald\\u0131r\\u0131p [[gidermek|gidersen]] bile k\\u00f6t\\u00fc [[iz]]ini, [[an\\u0131]]s\\u0131n\\u0131 gideremezsin.\\n\\n===Kaynak\\u00e7a===\\n* {{Aksoy, \\u00d6mer As\\u0131m-ADS-1995}}\",\n\"# Ba\\u015fkas\\u0131na yapt\\u0131\\u011f\\u0131n bir fenal\\u0131\\u011f\\u0131 kald\\u0131r\\u0131p gidersen bile k\\u00f6t\\u00fc izini, an\\u0131s\\u0131n\\u0131 gideremezsin. \",\n\"\",\n[\"ba\\u015fkas\\u0131na\", \"ba\\u015fka\", \"yapt\\u0131\\u011f\\u0131n\", \"yapmak\", \"bir\", \"fenal\\u0131\\u011f\\u0131\", \"fena\", \"kald\\u0131r\\u0131p\", \"kalmak\", \"gidersen\", \"gider\", \"bile\", \"k\\u00f6t\\u00fc\", \"izini\", \"iz\", \"an\\u0131s\\u0131n\\u0131\", \"an\\u0131\", \"gideremezsin\"]],\n [{\n            'v': 230599,\n            'f': \"230599\",\n        },\n\"Ayda bir gel dostuna, kalks\\u0131n ayak \\u00fcst\\u00fcne; g\\u00fcnde bir gel dostuna, yats\\u0131n s\\u0131rt\\u0131 \\u00fcst\\u00fcne\",\n\"==T\\u00fcrk\\u00e7e==\\n===Atas\\u00f6z\\u00fc===\\n{{ba\\u015fl\\u0131k ba\\u015f\\u0131|tr|atas\\u00f6z\\u00fc}}\\n[[Ayda]] bir gel dostuna, kalks\\u0131n ayak \\u00fcst\\u00fcne; g\\u00fcnde bir gel dostuna, yats\\u0131n s\\u0131rt\\u0131 \\u00fcst\\u00fcne\\n\\n:[1] Ne denli yak\\u0131n dostun olursa olsun, ona her g\\u00fcn gidersen usan\\u0131r. Ara s\\u0131ra git ki sayg\\u0131 ilekar\\u015f\\u0131las\\u0131n.\\n\\n====Kaynak\\u00e7a====\\n*{{Aksoy, \\u00d6mer As\\u0131m-ADS-1995}}\",\n\"# Ne denli yak\\u0131n dostun olursa olsun, ona her g\\u00fcn gidersen usan\\u0131r. Ara s\\u0131ra git ki sayg\\u0131 ilekar\\u015f\\u0131las\\u0131n. \",\n\"\",\n[\"denli\", \"yak\\u0131n\", \"dostun\", \"dost\", \"olursa\", \"olur\", \"olsun\", \"olmak\", \"ona\", \"onamak\", \"g\\u00fcn\", \"gidersen\", \"gider\", \"usan\\u0131r\", \"usanmak\", \"ara\", \"ar\", \"s\\u0131ra\", \"s\\u0131r\", \"git\", \"gitmek\", \"sayg\\u0131\", \"ilekar\\u015f\\u0131las\\u0131n\"]],\n [{\n            'v': 231476,\n            'f': \"231476\",\n        },\n\"Kara g\\u00fcn karar\\u0131p kalmaz\",\n\"==T\\u00fcrk\\u00e7e==\\n===Atas\\u00f6z\\u00fc===\\n{{ba\\u015fl\\u0131k ba\\u015f\\u0131|tr|atas\\u00f6z\\u00fc}}\\n[[Kara]] g\\u00fcn karar\\u0131p kalmaz\\n\\n:[1] \\u0130nsan\\u0131n s\\u0131k\\u0131nt\\u0131l\\u0131 zaman\\u0131 s\\u00fcr\\u00fcp gitmez, arkas\\u0131ndan keyifli g\\u00fcnler de gelir.\\n\\n====Kaynak\\u00e7a====\\n*{{Aksoy, \\u00d6mer As\\u0131m-ADS-1995}}\\n\\nAQ\",\n\"# \\u0130nsan\\u0131n s\\u0131k\\u0131nt\\u0131l\\u0131 zaman\\u0131 s\\u00fcr\\u00fcp gitmez, arkas\\u0131ndan keyifli g\\u00fcnler de gelir. \",\n\"\",\n[\"insan\\u0131n\", \"insan\", \"s\\u0131k\\u0131nt\\u0131l\\u0131\", \"s\\u0131k\\u0131nt\\u0131\", \"zaman\\u0131\", \"zaman\", \"s\\u00fcr\\u00fcp\", \"gitmez\", \"gitmek\", \"arkas\\u0131ndan\", \"arka\", \"keyifli\", \"keyif\", \"g\\u00fcnler\", \"g\\u00fcn\", \"gelir\"]],\n [{\n            'v': 230881,\n            'f': \"230881\",\n        },\n\"Da\\u011f ba\\u015f\\u0131na k\\u0131\\u015f gelir, insan\\u0131n ba\\u015f\\u0131na i\\u015f gelir\",\n\"==T\\u00fcrk\\u00e7e==\\n===Atas\\u00f6z\\u00fc===\\n{{ba\\u015fl\\u0131k ba\\u015f\\u0131|tr|atas\\u00f6z\\u00fc}}\\n# Da\\u011f ba\\u015f\\u0131nda k\\u0131\\u015f\\u0131n nas\\u0131l f\\u0131rt\\u0131na eksik olmazsa ki\\u015finin ya\\u015fam\\u0131nda da y\\u0131prat\\u0131c\\u0131 olaylar \\u00f6ylece eksik olmaz.\",\n\"# Da\\u011f ba\\u015f\\u0131nda k\\u0131\\u015f\\u0131n nas\\u0131l f\\u0131rt\\u0131na eksik olmazsa ki\\u015finin ya\\u015fam\\u0131nda da y\\u0131prat\\u0131c\\u0131 olaylar \\u00f6ylece eksik olmaz.\",\n\"\",\n[\"da\\u011f\", \"ba\\u015f\\u0131nda\", \"ba\\u015f\", \"k\\u0131\\u015f\\u0131n\", \"k\\u0131\\u015f\", \"f\\u0131rt\\u0131na\", \"eksik\", \"olmazsa\", \"olmaz\", \"ki\\u015finin\", \"ki\\u015fi\", \"ya\\u015fam\\u0131nda\", \"ya\\u015fam\", \"y\\u0131prat\\u0131c\\u0131\", \"y\\u0131pramak\", \"olaylar\", \"olay\", \"\\u00f6ylece\", \"\\u00f6yle\", \"eksik\", \"olmaz\"]],\n [{\n            'v': 229910,\n            'f': \"229910\",\n        },\n\"S\\u0131k gidersen dostuna, yatar arka \\u00fcst\\u00fcne\",\n\"==T\\u00fcrk\\u00e7e==\\n===Atas\\u00f6z\\u00fc===\\n{{ba\\u015fl\\u0131k ba\\u015f\\u0131|tr|atas\\u00f6z\\u00fc}}\\n[[S\\u0131k]] gidersen dostuna, yatar arka \\u00fcst\\u00fcne\\n\\n:[1] Ne denli candan olursa olsun, dostuna \\u00e7ok s\\u0131k gitme. Sonra usan\\u0131r, sana y\\u00fcz vermez.\\n\\n====Kaynak\\u00e7a====\\n*{{Aksoy, \\u00d6mer As\\u0131m-ADS-1995}}\",\n\"# Ne denli candan olursa olsun, dostuna \\u00e7ok s\\u0131k gitme. Sonra usan\\u0131r, sana y\\u00fcz vermez. \",\n\"\",\n[\"denli\", \"candan\", \"olursa\", \"olur\", \"olsun\", \"olmak\", \"dostuna\", \"dost\", \"s\\u0131k\", \"s\\u0131kmak\", \"gitme\", \"gitmek\", \"sonra\", \"usan\\u0131r\", \"usanmak\", \"sana\", \"san\", \"y\\u00fcz\", \"y\\u00fczmek\", \"vermez\", \"vermek\"]]],\n        columns: [[\"number\", \"pageid\"], [\"string\", \"title\"], [\"string\", \"wikitext\"], [\"string\", \"anlam\"], [\"string\", \"muhtemel ayn\\u0131lar\"], [\"string\", \"parcalar\"]],\n        columnOptions: [{\"width\": \"1px\", \"className\": \"index_column\"}],\n        rowsPerPage: 25,\n        helpUrl: \"https://colab.research.google.com/notebooks/data_table.ipynb\",\n        suppressOutputScrolling: true,\n        minimumWidth: undefined,\n      });\n    "
          },
          "metadata": {},
          "execution_count": 52
        },
        {
          "output_type": "stream",
          "name": "stdout",
          "text": [
            "time: 242 ms (started: 2022-06-23 13:08:51 +00:00)\n"
          ]
        }
      ]
    },
    {
      "cell_type": "markdown",
      "source": [
        "## Sakla\n",
        "*Sakla samanı gelir zamanı.*"
      ],
      "metadata": {
        "id": "yqF-Ec7-HdC0"
      }
    },
    {
      "cell_type": "code",
      "source": [
        "import torch\n",
        "torch.save(corpus_embs, 'proverbs_embeddings.pt')"
      ],
      "metadata": {
        "id": "39Ne1V_mHkBC",
        "colab": {
          "base_uri": "https://localhost:8080/"
        },
        "outputId": "cd87310e-8b4d-47cf-a43d-285a1f93e97f"
      },
      "execution_count": null,
      "outputs": [
        {
          "output_type": "execute_result",
          "data": {
            "text/plain": [
              "['modeller/bert_model_pipeline.pkl']"
            ]
          },
          "metadata": {},
          "execution_count": 55
        },
        {
          "output_type": "stream",
          "name": "stdout",
          "text": [
            "time: 3 s (started: 2022-06-08 16:48:33 +00:00)\n"
          ]
        }
      ]
    },
    {
      "cell_type": "markdown",
      "source": [
        "## Kaynaklar\n",
        "- https://github.com/bledem/movie_recommendation\n",
        "- StackOverFlow\n",
        "- https://github.com/vngrs-ai/vnlp"
      ],
      "metadata": {
        "id": "ZBKelGJ7s3w1"
      }
    }
  ]
}